{
 "cells": [
  {
   "cell_type": "code",
   "execution_count": 2,
   "metadata": {},
   "outputs": [
    {
     "name": "stderr",
     "output_type": "stream",
     "text": [
      "Using TensorFlow backend.\n"
     ]
    }
   ],
   "source": [
    "import os\n",
    "#import numpy as np\n",
    "import sys\n",
    "import glob\n",
    "import re\n",
    "import h5py\n",
    "#os.environ['KERAS_BACKEND'] = 'theano'\n",
    "os.environ['KERAS_BACKEND'] = 'tensorflow'\n",
    "os.environ['CUDA_VISIBLE_DEVICES'] = '5'\n",
    "#from keras.models import Sequential, Model, model_from_json\n",
    "#from keras.layers import Dense, Activation, Input, Dense, Dropout, merge, Reshape, Convolution3D, MaxPooling3D, Flatten\n",
    "from keras.callbacks import EarlyStopping, ModelCheckpoint\n",
    "%matplotlib inline"
   ]
  },
  {
   "cell_type": "code",
   "execution_count": 3,
   "metadata": {},
   "outputs": [
    {
     "data": {
      "text/plain": [
       "'/home/vitoriabp/CaloImage_2017'"
      ]
     },
     "execution_count": 3,
     "metadata": {},
     "output_type": "execute_result"
    }
   ],
   "source": [
    "os.getcwd()"
   ]
  },
  {
   "cell_type": "code",
   "execution_count": 13,
   "metadata": {
    "collapsed": true
   },
   "outputs": [],
   "source": [
    "if __package__ is None:\n",
    "    sys.path.append(os.path.realpath(\"/home/vitoriabp/RegressionLCD/\"))\n",
    "    \n",
    "from model import *\n",
    "from preprocessing import *\n",
    "from plots import *"
   ]
  },
  {
   "cell_type": "code",
   "execution_count": 5,
   "metadata": {},
   "outputs": [
    {
     "name": "stdout",
     "output_type": "stream",
     "text": [
      "None\n"
     ]
    }
   ],
   "source": [
    "print __package__"
   ]
  },
  {
   "cell_type": "code",
   "execution_count": 4,
   "metadata": {
    "collapsed": true
   },
   "outputs": [],
   "source": [
    "if __package__ is None:\n",
    "    sys.path.append(os.path.realpath(\"/data/shared/Software/CMS_Deep_Learning\"))\n",
    "    \n",
    "from CMS_Deep_Learning.io import gen_from_data, retrieve_data\n",
    "from CMS_Deep_Learning.postprocessing.metrics import distribute_to_bins"
   ]
  },
  {
   "cell_type": "markdown",
   "metadata": {},
   "source": [
    "## Defining model"
   ]
  },
  {
   "cell_type": "code",
   "execution_count": 5,
   "metadata": {
    "collapsed": true
   },
   "outputs": [],
   "source": [
    "def modelSum(loss='mse', name=\"regression\"):\n",
    "    '''\n",
    "    Regression model that has as inputs ECAL, HCAL and a numpy array containing the sum over ECAL and HCAL.\n",
    "    :param loss: Keras' loss function to be used. Recommended: mse, mean_absolute_error,\n",
    "     mean_squared_logarithmic_error, mean_absolute_percentage_error.\n",
    "    :param name: (String) name to save the file as.\n",
    "    :return: model.\n",
    "    '''\n",
    "    # ECAL input\n",
    "    input1 = Input(shape=(25, 25, 25))\n",
    "    r = Reshape((25, 25, 25, 1))(input1)\n",
    "    model1 = Convolution3D(3, 4, 4, 4, activation='relu')(r)\n",
    "    model1 = MaxPooling3D()(model1)\n",
    "    model1 = Flatten()(model1)\n",
    "\n",
    "    # HCAL input\n",
    "    input2 = Input(shape=(5, 5, 60))\n",
    "    r = Reshape((5, 5, 60, 1))(input2)\n",
    "    model2 = Convolution3D(10, 2, 2, 2, activation='relu')(r)\n",
    "    model2 = MaxPooling3D()(model2)\n",
    "    model2 = Flatten()(model2)\n",
    "\n",
    "    # ECAL sum\n",
    "    input3 = Input(shape=(1,))\n",
    "    \n",
    "    # HCAL sum\n",
    "    input4 = Input(shape=(1,))\n",
    "\n",
    "    # join the three input models\n",
    "    bmodel = merge([model1, model2, input3, input4], mode='concat')\n",
    "\n",
    "    # fully connected ending\n",
    "    bmodel = (Dense(1000, activation='relu'))(bmodel)\n",
    "    bmodel = (Dropout(0.5))(bmodel)\n",
    "\n",
    "    oe = Dense(1, activation='linear', name='energy')(bmodel)  # output energy regression\n",
    "\n",
    "    # energy regression model\n",
    "    model = Model(input=[input1, input2, input3, input4], output=oe)\n",
    "    model.compile(loss=loss, optimizer='adam')\n",
    "    model.summary()\n",
    "    saveModel(model, name=name)\n",
    "\n",
    "    return model"
   ]
  },
  {
   "cell_type": "code",
   "execution_count": 6,
   "metadata": {},
   "outputs": [
    {
     "name": "stdout",
     "output_type": "stream",
     "text": [
      "____________________________________________________________________________________________________\n",
      "Layer (type)                     Output Shape          Param #     Connected to                     \n",
      "====================================================================================================\n",
      "input_1 (InputLayer)             (None, 25, 25, 25)    0                                            \n",
      "____________________________________________________________________________________________________\n",
      "input_2 (InputLayer)             (None, 5, 5, 60)      0                                            \n",
      "____________________________________________________________________________________________________\n",
      "reshape_1 (Reshape)              (None, 25, 25, 25, 1) 0           input_1[0][0]                    \n",
      "____________________________________________________________________________________________________\n",
      "reshape_2 (Reshape)              (None, 5, 5, 60, 1)   0           input_2[0][0]                    \n",
      "____________________________________________________________________________________________________\n",
      "convolution3d_1 (Convolution3D)  (None, 22, 22, 22, 3) 195         reshape_1[0][0]                  \n",
      "____________________________________________________________________________________________________\n",
      "convolution3d_2 (Convolution3D)  (None, 4, 4, 59, 10)  90          reshape_2[0][0]                  \n",
      "____________________________________________________________________________________________________\n",
      "maxpooling3d_1 (MaxPooling3D)    (None, 11, 11, 11, 3) 0           convolution3d_1[0][0]            \n",
      "____________________________________________________________________________________________________\n",
      "maxpooling3d_2 (MaxPooling3D)    (None, 2, 2, 29, 10)  0           convolution3d_2[0][0]            \n",
      "____________________________________________________________________________________________________\n",
      "flatten_1 (Flatten)              (None, 3993)          0           maxpooling3d_1[0][0]             \n",
      "____________________________________________________________________________________________________\n",
      "flatten_2 (Flatten)              (None, 1160)          0           maxpooling3d_2[0][0]             \n",
      "____________________________________________________________________________________________________\n",
      "input_3 (InputLayer)             (None, 1)             0                                            \n",
      "____________________________________________________________________________________________________\n",
      "input_4 (InputLayer)             (None, 1)             0                                            \n",
      "____________________________________________________________________________________________________\n",
      "merge_1 (Merge)                  (None, 5155)          0           flatten_1[0][0]                  \n",
      "                                                                   flatten_2[0][0]                  \n",
      "                                                                   input_3[0][0]                    \n",
      "                                                                   input_4[0][0]                    \n",
      "____________________________________________________________________________________________________\n",
      "dense_1 (Dense)                  (None, 1000)          5156000     merge_1[0][0]                    \n",
      "____________________________________________________________________________________________________\n",
      "dropout_1 (Dropout)              (None, 1000)          0           dense_1[0][0]                    \n",
      "____________________________________________________________________________________________________\n",
      "energy (Dense)                   (None, 1)             1001        dropout_1[0][0]                  \n",
      "====================================================================================================\n",
      "Total params: 5,157,286\n",
      "Trainable params: 5,157,286\n",
      "Non-trainable params: 0\n",
      "____________________________________________________________________________________________________\n",
      "____________________________________________________________________________________________________\n",
      "Layer (type)                     Output Shape          Param #     Connected to                     \n",
      "====================================================================================================\n",
      "input_1 (InputLayer)             (None, 25, 25, 25)    0                                            \n",
      "____________________________________________________________________________________________________\n",
      "input_2 (InputLayer)             (None, 5, 5, 60)      0                                            \n",
      "____________________________________________________________________________________________________\n",
      "reshape_1 (Reshape)              (None, 25, 25, 25, 1) 0           input_1[0][0]                    \n",
      "____________________________________________________________________________________________________\n",
      "reshape_2 (Reshape)              (None, 5, 5, 60, 1)   0           input_2[0][0]                    \n",
      "____________________________________________________________________________________________________\n",
      "convolution3d_1 (Convolution3D)  (None, 22, 22, 22, 3) 195         reshape_1[0][0]                  \n",
      "____________________________________________________________________________________________________\n",
      "convolution3d_2 (Convolution3D)  (None, 4, 4, 59, 10)  90          reshape_2[0][0]                  \n",
      "____________________________________________________________________________________________________\n",
      "maxpooling3d_1 (MaxPooling3D)    (None, 11, 11, 11, 3) 0           convolution3d_1[0][0]            \n",
      "____________________________________________________________________________________________________\n",
      "maxpooling3d_2 (MaxPooling3D)    (None, 2, 2, 29, 10)  0           convolution3d_2[0][0]            \n",
      "____________________________________________________________________________________________________\n",
      "flatten_1 (Flatten)              (None, 3993)          0           maxpooling3d_1[0][0]             \n",
      "____________________________________________________________________________________________________\n",
      "flatten_2 (Flatten)              (None, 1160)          0           maxpooling3d_2[0][0]             \n",
      "____________________________________________________________________________________________________\n",
      "input_3 (InputLayer)             (None, 1)             0                                            \n",
      "____________________________________________________________________________________________________\n",
      "input_4 (InputLayer)             (None, 1)             0                                            \n",
      "____________________________________________________________________________________________________\n",
      "merge_1 (Merge)                  (None, 5155)          0           flatten_1[0][0]                  \n",
      "                                                                   flatten_2[0][0]                  \n",
      "                                                                   input_3[0][0]                    \n",
      "                                                                   input_4[0][0]                    \n",
      "____________________________________________________________________________________________________\n",
      "dense_1 (Dense)                  (None, 1000)          5156000     merge_1[0][0]                    \n",
      "____________________________________________________________________________________________________\n",
      "dropout_1 (Dropout)              (None, 1000)          0           dense_1[0][0]                    \n",
      "____________________________________________________________________________________________________\n",
      "energy (Dense)                   (None, 1)             1001        dropout_1[0][0]                  \n",
      "====================================================================================================\n",
      "Total params: 5,157,286\n",
      "Trainable params: 5,157,286\n",
      "Non-trainable params: 0\n",
      "____________________________________________________________________________________________________\n"
     ]
    }
   ],
   "source": [
    "log = modelSum(name=\"log_gamma\")"
   ]
  },
  {
   "cell_type": "markdown",
   "metadata": {},
   "source": [
    "## Generator"
   ]
  },
  {
   "cell_type": "code",
   "execution_count": 7,
   "metadata": {
    "collapsed": true
   },
   "outputs": [],
   "source": [
    "# Defining the directories, which contain the splitted data\n",
    "\n",
    "train_dir = \"/home/vitoriabp/CaloImage_2017/GammaEscan/train\"\n",
    "valid_dir = \"/home/vitoriabp/CaloImage_2017/GammaEscan/valid\"\n",
    "test_dir = \"/home/vitoriabp/CaloImage_2017/GammaEscan/test\""
   ]
  },
  {
   "cell_type": "code",
   "execution_count": 8,
   "metadata": {
    "collapsed": true
   },
   "outputs": [],
   "source": [
    "## Danny's generator\n",
    "\n",
    "# training set:\n",
    "train = gen_from_data(train_dir, batch_size=500, data_keys=[[\"ECAL\", \"HCAL\"], \"target\"], prep_func=reshapeData)\n",
    "\n",
    "# validation set:\n",
    "val = gen_from_data(valid_dir, batch_size=500, data_keys=[[\"ECAL\", \"HCAL\"], \"target\"], prep_func=reshapeData)\n",
    "\n",
    "# testing set:\n",
    "test = gen_from_data(test_dir, batch_size=500, data_keys=[[\"ECAL\", \"HCAL\"], \"target\"], prep_func=reshapeData)"
   ]
  },
  {
   "cell_type": "code",
   "execution_count": 9,
   "metadata": {},
   "outputs": [
    {
     "name": "stdout",
     "output_type": "stream",
     "text": [
      "(500, 25, 25, 25)\n",
      "(500, 5, 5, 60)\n",
      "(500, 1)\n"
     ]
    }
   ],
   "source": [
    "# load training data\n",
    "(xe, xh), yt = next(train)\n",
    "#xe = ecal input (stands for \"x, ecal\")\n",
    "#xh = hcal input (stands for \"y, hcal\")\n",
    "#yt = energy target (stands for \"y, target\")\n",
    "\n",
    "print(xe.shape)\n",
    "print(xh.shape)\n",
    "print(yt.shape)"
   ]
  },
  {
   "cell_type": "code",
   "execution_count": 15,
   "metadata": {
    "collapsed": true
   },
   "outputs": [],
   "source": [
    "def _genSum(generator):\n",
    "    '''\n",
    "    -- This function might be buggy, haven't tested yet. --\n",
    "    Generator that receives a generator (Danny's) and outputs ECAL, HCAL and an array containing the sum over the ECAL and HCAL cells.\n",
    "    :param generator: gen_from_data(train_dir, batch_size=500, data_keys=[[\"ECAL\", \"HCAL\"], \"target\"], prep_func=reshapeData)\n",
    "    :type generator: generator\n",
    "    :return: ECAL, HCAL, sum[ECAL, HCAL]\n",
    "    :rtype: numpy array with shape (n, 25, 25, 25), array with shape (n, 5, 5, 60), array with shape (n, 2); n is the batch size.\n",
    "    '''\n",
    "    # s = lambda x: np.sum(np.sum(np.sum(x,axis=-1),axis=-1),axis=-1)\n",
    "    s = lambda x: np.sum(np.sum(np.sum(x, axis=-1), axis=-1), axis=-1, keepdims=True)\n",
    "\n",
    "    while True:\n",
    "        (ecal, hcal), true = next(generator)\n",
    "        s_ecal = s(ecal)\n",
    "        s_hcal = s(hcal)\n",
    "        sums = np.array([s_ecal, s_hcal])\n",
    "        reshaped = sums.reshape(500,2)\n",
    "        # print reshaped.shape\n",
    "        # print reshaped\n",
    "        yield [ecal, hcal, sums], true"
   ]
  },
  {
   "cell_type": "code",
   "execution_count": 16,
   "metadata": {},
   "outputs": [],
   "source": [
    "genS = _genSum(train)\n",
    "genS_Val = _genSum(val)"
   ]
  },
  {
   "cell_type": "markdown",
   "metadata": {},
   "source": [
    "# Model training"
   ]
  },
  {
   "cell_type": "code",
   "execution_count": 17,
   "metadata": {},
   "outputs": [
    {
     "name": "stdout",
     "output_type": "stream",
     "text": [
      "Epoch 1/50\n"
     ]
    },
    {
     "ename": "ValueError",
     "evalue": "Error when checking model input: the list of Numpy arrays that you are passing to your model is not the size the model expected. Expected to see 4 arrays but instead got the following list of 3 arrays: [array([[[[ 0.        ,  0.        ,  0.        , ...,  0.        ,\n           0.        ,  0.        ],\n         [ 0.        ,  0.        ,  0.        , ...,  0.        ,\n           0.        ,  0.  ...",
     "output_type": "error",
     "traceback": [
      "\u001b[0;31m---------------------------------------------------------------------------\u001b[0m",
      "\u001b[0;31mValueError\u001b[0m                                Traceback (most recent call last)",
      "\u001b[0;32m<ipython-input-17-f450ca0a77d5>\u001b[0m in \u001b[0;36m<module>\u001b[0;34m()\u001b[0m\n\u001b[1;32m      5\u001b[0m                            \u001b[0;31m#validation_split=0.2,\u001b[0m\u001b[0;34m\u001b[0m\u001b[0;34m\u001b[0m\u001b[0m\n\u001b[1;32m      6\u001b[0m                            callbacks=[EarlyStopping(monitor='val_loss', patience=8, verbose=1, mode='min')\n\u001b[0;32m----> 7\u001b[0;31m                            , ModelCheckpoint(filepath='/home/vitoriabp/CaloImage_2017/log.h5', verbose=0)]\n\u001b[0m\u001b[1;32m      8\u001b[0m                             )\n",
      "\u001b[0;32m/usr/local/lib/python2.7/dist-packages/keras/engine/training.pyc\u001b[0m in \u001b[0;36mfit_generator\u001b[0;34m(self, generator, samples_per_epoch, nb_epoch, verbose, callbacks, validation_data, nb_val_samples, class_weight, max_q_size, nb_worker, pickle_safe, initial_epoch)\u001b[0m\n\u001b[1;32m   1555\u001b[0m                     outs = self.train_on_batch(x, y,\n\u001b[1;32m   1556\u001b[0m                                                \u001b[0msample_weight\u001b[0m\u001b[0;34m=\u001b[0m\u001b[0msample_weight\u001b[0m\u001b[0;34m,\u001b[0m\u001b[0;34m\u001b[0m\u001b[0m\n\u001b[0;32m-> 1557\u001b[0;31m                                                class_weight=class_weight)\n\u001b[0m\u001b[1;32m   1558\u001b[0m \u001b[0;34m\u001b[0m\u001b[0m\n\u001b[1;32m   1559\u001b[0m                     \u001b[0;32mif\u001b[0m \u001b[0;32mnot\u001b[0m \u001b[0misinstance\u001b[0m\u001b[0;34m(\u001b[0m\u001b[0mouts\u001b[0m\u001b[0;34m,\u001b[0m \u001b[0mlist\u001b[0m\u001b[0;34m)\u001b[0m\u001b[0;34m:\u001b[0m\u001b[0;34m\u001b[0m\u001b[0m\n",
      "\u001b[0;32m/usr/local/lib/python2.7/dist-packages/keras/engine/training.pyc\u001b[0m in \u001b[0;36mtrain_on_batch\u001b[0;34m(self, x, y, sample_weight, class_weight)\u001b[0m\n\u001b[1;32m   1312\u001b[0m             \u001b[0msample_weight\u001b[0m\u001b[0;34m=\u001b[0m\u001b[0msample_weight\u001b[0m\u001b[0;34m,\u001b[0m\u001b[0;34m\u001b[0m\u001b[0m\n\u001b[1;32m   1313\u001b[0m             \u001b[0mclass_weight\u001b[0m\u001b[0;34m=\u001b[0m\u001b[0mclass_weight\u001b[0m\u001b[0;34m,\u001b[0m\u001b[0;34m\u001b[0m\u001b[0m\n\u001b[0;32m-> 1314\u001b[0;31m             check_batch_axis=True)\n\u001b[0m\u001b[1;32m   1315\u001b[0m         \u001b[0;32mif\u001b[0m \u001b[0mself\u001b[0m\u001b[0;34m.\u001b[0m\u001b[0muses_learning_phase\u001b[0m \u001b[0;32mand\u001b[0m \u001b[0;32mnot\u001b[0m \u001b[0misinstance\u001b[0m\u001b[0;34m(\u001b[0m\u001b[0mK\u001b[0m\u001b[0;34m.\u001b[0m\u001b[0mlearning_phase\u001b[0m\u001b[0;34m,\u001b[0m \u001b[0mint\u001b[0m\u001b[0;34m)\u001b[0m\u001b[0;34m:\u001b[0m\u001b[0;34m\u001b[0m\u001b[0m\n\u001b[1;32m   1316\u001b[0m             \u001b[0mins\u001b[0m \u001b[0;34m=\u001b[0m \u001b[0mx\u001b[0m \u001b[0;34m+\u001b[0m \u001b[0my\u001b[0m \u001b[0;34m+\u001b[0m \u001b[0msample_weights\u001b[0m \u001b[0;34m+\u001b[0m \u001b[0;34m[\u001b[0m\u001b[0;36m1.\u001b[0m\u001b[0;34m]\u001b[0m\u001b[0;34m\u001b[0m\u001b[0m\n",
      "\u001b[0;32m/usr/local/lib/python2.7/dist-packages/keras/engine/training.pyc\u001b[0m in \u001b[0;36m_standardize_user_data\u001b[0;34m(self, x, y, sample_weight, class_weight, check_batch_axis, batch_size)\u001b[0m\n\u001b[1;32m   1027\u001b[0m                                    \u001b[0mself\u001b[0m\u001b[0;34m.\u001b[0m\u001b[0minternal_input_shapes\u001b[0m\u001b[0;34m,\u001b[0m\u001b[0;34m\u001b[0m\u001b[0m\n\u001b[1;32m   1028\u001b[0m                                    \u001b[0mcheck_batch_axis\u001b[0m\u001b[0;34m=\u001b[0m\u001b[0mFalse\u001b[0m\u001b[0;34m,\u001b[0m\u001b[0;34m\u001b[0m\u001b[0m\n\u001b[0;32m-> 1029\u001b[0;31m                                    exception_prefix='model input')\n\u001b[0m\u001b[1;32m   1030\u001b[0m         y = standardize_input_data(y, self.output_names,\n\u001b[1;32m   1031\u001b[0m                                    \u001b[0moutput_shapes\u001b[0m\u001b[0;34m,\u001b[0m\u001b[0;34m\u001b[0m\u001b[0m\n",
      "\u001b[0;32m/usr/local/lib/python2.7/dist-packages/keras/engine/training.pyc\u001b[0m in \u001b[0;36mstandardize_input_data\u001b[0;34m(data, names, shapes, check_batch_axis, exception_prefix)\u001b[0m\n\u001b[1;32m     63\u001b[0m                                  \u001b[0;34m'the following list of '\u001b[0m \u001b[0;34m+\u001b[0m \u001b[0mstr\u001b[0m\u001b[0;34m(\u001b[0m\u001b[0mlen\u001b[0m\u001b[0;34m(\u001b[0m\u001b[0mdata\u001b[0m\u001b[0;34m)\u001b[0m\u001b[0;34m)\u001b[0m \u001b[0;34m+\u001b[0m\u001b[0;34m\u001b[0m\u001b[0m\n\u001b[1;32m     64\u001b[0m                                  \u001b[0;34m' arrays: '\u001b[0m \u001b[0;34m+\u001b[0m \u001b[0mstr\u001b[0m\u001b[0;34m(\u001b[0m\u001b[0mdata\u001b[0m\u001b[0;34m)\u001b[0m\u001b[0;34m[\u001b[0m\u001b[0;34m:\u001b[0m\u001b[0;36m200\u001b[0m\u001b[0;34m]\u001b[0m \u001b[0;34m+\u001b[0m\u001b[0;34m\u001b[0m\u001b[0m\n\u001b[0;32m---> 65\u001b[0;31m                                  '...')\n\u001b[0m\u001b[1;32m     66\u001b[0m             \u001b[0;32melse\u001b[0m\u001b[0;34m:\u001b[0m\u001b[0;34m\u001b[0m\u001b[0m\n\u001b[1;32m     67\u001b[0m                 \u001b[0;32mif\u001b[0m \u001b[0mlen\u001b[0m\u001b[0;34m(\u001b[0m\u001b[0mnames\u001b[0m\u001b[0;34m)\u001b[0m \u001b[0;34m==\u001b[0m \u001b[0;36m1\u001b[0m\u001b[0;34m:\u001b[0m\u001b[0;34m\u001b[0m\u001b[0m\n",
      "\u001b[0;31mValueError\u001b[0m: Error when checking model input: the list of Numpy arrays that you are passing to your model is not the size the model expected. Expected to see 4 arrays but instead got the following list of 3 arrays: [array([[[[ 0.        ,  0.        ,  0.        , ...,  0.        ,\n           0.        ,  0.        ],\n         [ 0.        ,  0.        ,  0.        , ...,  0.        ,\n           0.        ,  0.  ..."
     ]
    }
   ],
   "source": [
    "hist = log.fit_generator(genS, samples_per_epoch=40000, \n",
    "                           nb_epoch=50,\n",
    "                           validation_data = genS_Val, \n",
    "                           nb_val_samples=1000, verbose=1,\n",
    "                           #validation_split=0.2,\n",
    "                           callbacks=[EarlyStopping(monitor='val_loss', patience=8, verbose=1, mode='min')\n",
    "                           , ModelCheckpoint(filepath='/home/vitoriabp/CaloImage_2017/log.h5', verbose=0)]\n",
    "                            )"
   ]
  },
  {
   "cell_type": "code",
   "execution_count": 24,
   "metadata": {},
   "outputs": [
    {
     "data": {
      "image/png": "[encoded data removed]",
      "text/plain": [
       "<matplotlib.figure.Figure at 0x7fc3807e92d0>"
      ]
     },
     "metadata": {},
     "output_type": "display_data"
    }
   ],
   "source": [
    "show_losses([(\"log\", hist)])"
   ]
  },
  {
   "cell_type": "code",
   "execution_count": 25,
   "metadata": {},
   "outputs": [
    {
     "name": "stdout",
     "output_type": "stream",
     "text": [
      "____________________________________________________________________________________________________\n",
      "Layer (type)                     Output Shape          Param #     Connected to                     \n",
      "====================================================================================================\n",
      "input_1 (InputLayer)             (None, 25, 25, 25)    0                                            \n",
      "____________________________________________________________________________________________________\n",
      "input_2 (InputLayer)             (None, 5, 5, 60)      0                                            \n",
      "____________________________________________________________________________________________________\n",
      "reshape_1 (Reshape)              (None, 25, 25, 25, 1) 0           input_1[0][0]                    \n",
      "____________________________________________________________________________________________________\n",
      "reshape_2 (Reshape)              (None, 5, 5, 60, 1)   0           input_2[0][0]                    \n",
      "____________________________________________________________________________________________________\n",
      "convolution3d_1 (Convolution3D)  (None, 22, 22, 22, 3) 195         reshape_1[0][0]                  \n",
      "____________________________________________________________________________________________________\n",
      "convolution3d_2 (Convolution3D)  (None, 4, 4, 55, 10)  250         reshape_2[0][0]                  \n",
      "____________________________________________________________________________________________________\n",
      "maxpooling3d_1 (MaxPooling3D)    (None, 11, 11, 11, 3) 0           convolution3d_1[0][0]            \n",
      "____________________________________________________________________________________________________\n",
      "maxpooling3d_2 (MaxPooling3D)    (None, 2, 2, 27, 10)  0           convolution3d_2[0][0]            \n",
      "____________________________________________________________________________________________________\n",
      "flatten_1 (Flatten)              (None, 3993)          0           maxpooling3d_1[0][0]             \n",
      "____________________________________________________________________________________________________\n",
      "flatten_2 (Flatten)              (None, 1080)          0           maxpooling3d_2[0][0]             \n",
      "____________________________________________________________________________________________________\n",
      "merge_1 (Merge)                  (None, 5073)          0           flatten_1[0][0]                  \n",
      "                                                                   flatten_2[0][0]                  \n",
      "____________________________________________________________________________________________________\n",
      "dense_1 (Dense)                  (None, 1000)          5074000     merge_1[0][0]                    \n",
      "____________________________________________________________________________________________________\n",
      "dropout_1 (Dropout)              (None, 1000)          0           dense_1[0][0]                    \n",
      "____________________________________________________________________________________________________\n",
      "energy (Dense)                   (None, 1)             1001        dropout_1[0][0]                  \n",
      "====================================================================================================\n",
      "Total params: 5,075,446\n",
      "Trainable params: 5,075,446\n",
      "Non-trainable params: 0\n",
      "____________________________________________________________________________________________________\n"
     ]
    }
   ],
   "source": [
    "log.summary()"
   ]
  },
  {
   "cell_type": "code",
   "execution_count": 26,
   "metadata": {
    "collapsed": true
   },
   "outputs": [],
   "source": [
    "saveLosses(hist, name=\"log\")"
   ]
  },
  {
   "cell_type": "code",
   "execution_count": 27,
   "metadata": {},
   "outputs": [
    {
     "name": "stdout",
     "output_type": "stream",
     "text": [
      "____________________________________________________________________________________________________\n",
      "Layer (type)                     Output Shape          Param #     Connected to                     \n",
      "====================================================================================================\n",
      "input_1 (InputLayer)             (None, 25, 25, 25)    0                                            \n",
      "____________________________________________________________________________________________________\n",
      "input_2 (InputLayer)             (None, 5, 5, 60)      0                                            \n",
      "____________________________________________________________________________________________________\n",
      "reshape_1 (Reshape)              (None, 25, 25, 25, 1) 0           input_1[0][0]                    \n",
      "____________________________________________________________________________________________________\n",
      "reshape_2 (Reshape)              (None, 5, 5, 60, 1)   0           input_2[0][0]                    \n",
      "____________________________________________________________________________________________________\n",
      "convolution3d_1 (Convolution3D)  (None, 22, 22, 22, 3) 195         reshape_1[0][0]                  \n",
      "____________________________________________________________________________________________________\n",
      "convolution3d_2 (Convolution3D)  (None, 4, 4, 55, 10)  250         reshape_2[0][0]                  \n",
      "____________________________________________________________________________________________________\n",
      "maxpooling3d_1 (MaxPooling3D)    (None, 11, 11, 11, 3) 0           convolution3d_1[0][0]            \n",
      "____________________________________________________________________________________________________\n",
      "maxpooling3d_2 (MaxPooling3D)    (None, 2, 2, 27, 10)  0           convolution3d_2[0][0]            \n",
      "____________________________________________________________________________________________________\n",
      "flatten_1 (Flatten)              (None, 3993)          0           maxpooling3d_1[0][0]             \n",
      "____________________________________________________________________________________________________\n",
      "flatten_2 (Flatten)              (None, 1080)          0           maxpooling3d_2[0][0]             \n",
      "____________________________________________________________________________________________________\n",
      "merge_1 (Merge)                  (None, 5073)          0           flatten_1[0][0]                  \n",
      "                                                                   flatten_2[0][0]                  \n",
      "____________________________________________________________________________________________________\n",
      "dense_1 (Dense)                  (None, 1000)          5074000     merge_1[0][0]                    \n",
      "____________________________________________________________________________________________________\n",
      "dropout_1 (Dropout)              (None, 1000)          0           dense_1[0][0]                    \n",
      "____________________________________________________________________________________________________\n",
      "energy (Dense)                   (None, 1)             1001        dropout_1[0][0]                  \n",
      "====================================================================================================\n",
      "Total params: 5,075,446\n",
      "Trainable params: 5,075,446\n",
      "Non-trainable params: 0\n",
      "____________________________________________________________________________________________________\n"
     ]
    }
   ],
   "source": [
    "saveModel(log, name=\"log\")"
   ]
  },
  {
   "cell_type": "markdown",
   "metadata": {},
   "source": [
    "## Checkpoint. Can load model from here."
   ]
  },
  {
   "cell_type": "code",
   "execution_count": 28,
   "metadata": {},
   "outputs": [
    {
     "name": "stdout",
     "output_type": "stream",
     "text": [
      "Loaded model from disk\n"
     ]
    }
   ],
   "source": [
    "log = loadModel(\"log\", weights=True)\n",
    "log.compile(loss= 'mean_squared_logarithmic_error', optimizer='adam')"
   ]
  },
  {
   "cell_type": "markdown",
   "metadata": {},
   "source": [
    "## Test"
   ]
  },
  {
   "cell_type": "code",
   "execution_count": 29,
   "metadata": {},
   "outputs": [
    {
     "name": "stdout",
     "output_type": "stream",
     "text": [
      "(289499, 1)\n",
      "(289499, 1)\n"
     ]
    }
   ],
   "source": [
    "testDir = '/home/vitoriabp/CaloImage_2017/GammaEscan/test/' # test directory where you get the targets from\n",
    "mod = '/home/vitoriabp/CaloImage_2017/mae.json' # model file\n",
    "w = '/home/vitoriabp/CaloImage_2017/mae.h5' # weights file\n",
    "\n",
    "from CMS_Deep_Learning.io import simple_grab\n",
    "\n",
    "# grab y and predictions together\n",
    "all_y, all_pred, = simple_grab(['Y', 'predictions'], data = testDir, label_keys='target',\n",
    "                               input_keys=['ECAL', 'HCAL'], model = mod, weights = w)\n",
    "print all_pred.shape\n",
    "\n",
    "all_y = all_y[:, 1:]\n",
    "print(all_y.shape)\n",
    "\n",
    "#print all_pred\n",
    "\n",
    "#print all_y"
   ]
  },
  {
   "cell_type": "code",
   "execution_count": 33,
   "metadata": {},
   "outputs": [
    {
     "name": "stdout",
     "output_type": "stream",
     "text": [
      "[ 73874497.26063497]\n"
     ]
    }
   ],
   "source": [
    "# Energy sum:\n",
    "s = 0\n",
    "for t in all_y:\n",
    "    s += t\n",
    "\n",
    "print s"
   ]
  },
  {
   "cell_type": "code",
   "execution_count": 31,
   "metadata": {},
   "outputs": [
    {
     "name": "stdout",
     "output_type": "stream",
     "text": [
      "[[-0.004072  ]\n",
      " [-0.01005369]\n",
      " [-0.008028  ]\n",
      " ..., \n",
      " [-0.00588534]\n",
      " [ 0.00017082]\n",
      " [-0.00787568]]\n"
     ]
    }
   ],
   "source": [
    "print all_pred"
   ]
  },
  {
   "cell_type": "code",
   "execution_count": 32,
   "metadata": {},
   "outputs": [
    {
     "name": "stdout",
     "output_type": "stream",
     "text": [
      "[[ 173.689645]\n",
      " [ 358.741906]\n",
      " [ 456.964334]\n",
      " ..., \n",
      " [ 196.171853]\n",
      " [  20.73576 ]\n",
      " [ 301.480409]]\n"
     ]
    }
   ],
   "source": [
    "print all_y"
   ]
  },
  {
   "cell_type": "code",
   "execution_count": 18,
   "metadata": {},
   "outputs": [
    {
     "name": "stderr",
     "output_type": "stream",
     "text": [
      "/usr/local/lib/python2.7/dist-packages/matplotlib/axes/_axes.py:531: UserWarning: No labelled objects found. Use label='...' kwarg on individual plots.\n",
      "  warnings.warn(\"No labelled objects found. \"\n"
     ]
    },
    {
     "data": {
      "image/png": "[encoded data removed]",
      "text/plain": [
       "<matplotlib.figure.Figure at 0x7fc35467aa90>"
      ]
     },
     "metadata": {},
     "output_type": "display_data"
    }
   ],
   "source": [
    "plotPredictedXTarget(all_y, all_pred)"
   ]
  },
  {
   "cell_type": "code",
   "execution_count": null,
   "metadata": {
    "collapsed": true
   },
   "outputs": [],
   "source": [
    "histEDif(all_y, all_pred, nbins=1300, lim=10)"
   ]
  },
  {
   "cell_type": "code",
   "execution_count": null,
   "metadata": {
    "collapsed": true
   },
   "outputs": [],
   "source": [
    "histRelDif(all_y, all_pred, nbins=350, lim=0.1)"
   ]
  },
  {
   "cell_type": "code",
   "execution_count": null,
   "metadata": {
    "collapsed": true
   },
   "outputs": [],
   "source": [
    "plotRelXTarget(all_y, rDif(all_y, all_pred))"
   ]
  },
  {
   "cell_type": "code",
   "execution_count": null,
   "metadata": {
    "collapsed": true
   },
   "outputs": [],
   "source": [
    "x, y, means, rMeans, stds, rStds, sizes = binning(10, all_y.ravel(), all_pred.ravel())"
   ]
  },
  {
   "cell_type": "code",
   "execution_count": null,
   "metadata": {
    "collapsed": true
   },
   "outputs": [],
   "source": [
    "plotN(means, stds, sizes, \"means\")"
   ]
  },
  {
   "cell_type": "code",
   "execution_count": null,
   "metadata": {
    "collapsed": true
   },
   "outputs": [],
   "source": [
    "plotN(rMeans, rStds, sizes, \"rMeans\")"
   ]
  },
  {
   "cell_type": "code",
   "execution_count": null,
   "metadata": {
    "collapsed": true
   },
   "outputs": [],
   "source": [
    "plotN(stds, stds, sizes, \"stds\")"
   ]
  },
  {
   "cell_type": "code",
   "execution_count": null,
   "metadata": {
    "collapsed": true
   },
   "outputs": [],
   "source": [
    "plotN(rStds, rStds, sizes, \"rStds\")"
   ]
  }
 ],
 "metadata": {
  "kernelspec": {
   "display_name": "Python 2",
   "language": "python",
   "name": "python2"
  }
 },
 "nbformat": 4,
 "nbformat_minor": 2
}
