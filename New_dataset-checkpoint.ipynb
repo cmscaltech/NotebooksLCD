{
 "cells": [
  {
   "cell_type": "code",
   "execution_count": null,
   "metadata": {
    "collapsed": true
   },
   "outputs": [],
   "source": [
    "import os\n",
    "#import numpy as np\n",
    "import sys\n",
    "import glob\n",
    "import re\n",
    "import h5py\n",
    "#os.environ['KERAS_BACKEND'] = 'theano'\n",
    "os.environ['KERAS_BACKEND'] = 'tensorflow'\n",
    "os.environ['CUDA_VISIBLE_DEVICES'] = '6'\n",
    "#from keras.models import Sequential, Model, model_from_json\n",
    "#from keras.layers import Dense, Activation, Input, Dense, Dropout, merge, Reshape, Convolution3D, MaxPooling3D, Flatten\n",
    "from keras.callbacks import EarlyStopping, ModelCheckpoint\n",
    "%matplotlib inline"
   ]
  },
  {
   "cell_type": "code",
   "execution_count": null,
   "metadata": {
    "collapsed": true
   },
   "outputs": [],
   "source": [
    "# Assume that you have 12GB of GPU memory and want to allocate ~4GB:\n",
    "import tensorflow as tf\n",
    "gpu_options = tf.GPUOptions(per_process_gpu_memory_fraction=0.333)\n",
    "\n",
    "sess = tf.Session(config=tf.ConfigProto(gpu_options=gpu_options))"
   ]
  },
  {
   "cell_type": "code",
   "execution_count": null,
   "metadata": {
    "collapsed": true
   },
   "outputs": [],
   "source": [
    "if __package__ is None:\n",
    "    sys.path.append(os.path.realpath(\"/home/vitoriabp/RegressionLCD/\"))\n",
    "    \n",
    "from model import *\n",
    "from preprocessing import *\n",
    "from plots import *"
   ]
  },
  {
   "cell_type": "code",
   "execution_count": null,
   "metadata": {
    "collapsed": true
   },
   "outputs": [],
   "source": [
    "if __package__ is None:\n",
    "    sys.path.append(os.path.realpath(\"/data/shared/Software/CMS_Deep_Learning\"))\n",
    "    \n",
    "from CMS_Deep_Learning.io import gen_from_data, retrieve_data\n",
    "from CMS_Deep_Learning.postprocessing.metrics import distribute_to_bins"
   ]
  },
  {
   "cell_type": "markdown",
   "metadata": {},
   "source": [
    "# Defining model"
   ]
  },
  {
   "cell_type": "code",
   "execution_count": null,
   "metadata": {
    "collapsed": true
   },
   "outputs": [],
   "source": [
    "def modelJets(loss='mse', name=\"regression\"):\n",
    "    '''\n",
    "    Defines regression model.\n",
    "    :param loss: Keras' loss function to be used. Recommended: mse, mean_absolute_error,\n",
    "     mean_squared_logarithmic_error, mean_absolute_percentage_error.\n",
    "    :param name: (String) name to save the file as.\n",
    "    :return: model.\n",
    "    '''\n",
    "    # ECALminus input\n",
    "    input1 = Input(shape=(25, 25, 25))\n",
    "    r = Reshape((25, 25, 25, 1))(input1)\n",
    "    model1 = Convolution3D(3, 4, 4, 4, activation='relu')(r)\n",
    "    model1 = MaxPooling3D()(model1)\n",
    "    model1 = Flatten()(model1)\n",
    "    \n",
    "    # ECALplus input\n",
    "    input0 = Input(shape=(25, 25, 25))\n",
    "    r = Reshape((25, 25, 25, 1))(input1)\n",
    "    model0 = Convolution3D(3, 4, 4, 4, activation='relu')(r)\n",
    "    model0 = MaxPooling3D()(model1)\n",
    "    model0 = Flatten()(model1)\n",
    "\n",
    "    # HCALminus input\n",
    "    input2 = Input(shape=(5, 5, 60))\n",
    "    r = Reshape((5, 5, 60, 1))(input2)\n",
    "    model2 = Convolution3D(10, 2, 2, 2, activation='relu')(r)\n",
    "    model2 = MaxPooling3D()(model2)\n",
    "    model2 = Flatten()(model2)\n",
    "    \n",
    "    # HCALplus input\n",
    "    input4 = Input(shape=(5, 5, 60))\n",
    "    r = Reshape((5, 5, 60, 1))(input2)\n",
    "    model4 = Convolution3D(10, 2, 2, 2, activation='relu')(r)\n",
    "    model4 = MaxPooling3D()(model2)\n",
    "    model4 = Flatten()(model2)\n",
    "    \n",
    "    \n",
    "    # join the four input models\n",
    "    bmodel = merge([model0, model1, model2, model4], mode='concat')\n",
    "\n",
    "    # fully connected ending\n",
    "    bmodel = (Dense(1000, activation='relu'))(bmodel)\n",
    "    bmodel = (Dropout(0.5))(bmodel)\n",
    "\n",
    "    oe = Dense(1, activation='linear', name='energy')(bmodel)  # output energy regression\n",
    "\n",
    "    # energy regression model\n",
    "    model = Model(input=[input1, input2, input3], output=oe)\n",
    "    model.compile(loss=loss, optimizer='adam')\n",
    "    model.summary()\n",
    "    saveModel(model, name=name)\n",
    "    \n",
    "    return model"
   ]
  }
 ],
 "metadata": {
  "kernelspec": {
   "display_name": "Python 2",
   "language": "python",
   "name": "python2"
  },
  "language_info": {
   "codemirror_mode": {
    "name": "ipython",
    "version": 2
   },
   "file_extension": ".py",
   "mimetype": "text/x-python",
   "name": "python",
   "nbconvert_exporter": "python",
   "pygments_lexer": "ipython2",
   "version": "2.7.12"
  }
 },
 "nbformat": 4,
 "nbformat_minor": 2
}
