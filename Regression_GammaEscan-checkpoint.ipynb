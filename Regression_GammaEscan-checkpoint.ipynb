{
 "cells": [
  {
   "cell_type": "code",
   "execution_count": 36,
   "metadata": {
    "collapsed": true
   },
   "outputs": [],
   "source": [
    "import numpy as np\n",
    "import root_numpy as rnp\n",
    "import os\n",
    "import sys\n",
    "import re\n",
    "import glob\n",
    "import h5py\n",
    "import numpy as np\n",
    "import os\n",
    "#os.environ['KERAS_BACKEND'] = 'theano'\n",
    "os.environ['KERAS_BACKEND'] = 'tensorflow'\n",
    "os.environ['CUDA_VISIBLE_DEVICES'] = '5'\n",
    "from keras.models import Sequential, Model, model_from_json\n",
    "from keras.layers import Dense, Activation, Input, Dense, Dropout, merge, Reshape, Convolution3D, MaxPooling3D, Flatten\n",
    "from keras.callbacks import EarlyStopping, ModelCheckpoint\n",
    "%matplotlib inline"
   ]
  },
  {
   "cell_type": "code",
   "execution_count": 37,
   "metadata": {
    "collapsed": true
   },
   "outputs": [],
   "source": [
    "import matplotlib.pyplot as plt"
   ]
  },
  {
   "cell_type": "markdown",
   "metadata": {},
   "source": [
    "Declaring functions for loading and saving models:"
   ]
  },
  {
   "cell_type": "code",
   "execution_count": 38,
   "metadata": {
    "collapsed": true
   },
   "outputs": [],
   "source": [
    "def loadModel(name, weights = False):\n",
    "    json_file = open('%s.json' % name, 'r')\n",
    "    loadedmodeljson = json_file.read()\n",
    "    json_file.close()\n",
    "    \n",
    "    model = model_from_json(loadedmodeljson)\n",
    "    \n",
    "    #load weights into new model\n",
    "    if weights == True:\n",
    "        model.load_weights('%s.h5' % name)\n",
    "    #print model.summary()\n",
    "    \n",
    "    print(\"Loaded model from disk\")\n",
    "    return model\n",
    "\n",
    "\n",
    "def saveModel(model, name = \"neural network\"):\n",
    "    model_name = name\n",
    "    model.summary()\n",
    "    model.save_weights('%s.h5' % model_name, overwrite=True)\n",
    "    model_json = model.to_json()\n",
    "    with open(\"%s.json\" % model_name, \"w\") as json_file:\n",
    "        json_file.write(model_json)\n",
    "        \n",
    "def saveLosses(hist, name=\"neural network\"):    \n",
    "    loss = np.array(hist.history['loss'])\n",
    "    valoss = np.array(hist.history['val_loss'])\n",
    "    \n",
    "    f = h5py.File(\"%s_losses.h5\" % name, \"w\")\n",
    "    f.create_dataset('loss', data=loss)\n",
    "    f.create_dataset('val_loss', data=valoss)\n",
    "    f.close()"
   ]
  },
  {
   "cell_type": "markdown",
   "metadata": {},
   "source": [
    "Defining models:"
   ]
  },
  {
   "cell_type": "code",
   "execution_count": 4,
   "metadata": {
    "scrolled": true
   },
   "outputs": [
    {
     "name": "stdout",
     "output_type": "stream",
     "text": [
      "____________________________________________________________________________________________________\n",
      "Layer (type)                     Output Shape          Param #     Connected to                     \n",
      "====================================================================================================\n",
      "input_1 (InputLayer)             (None, 25, 25, 25)    0                                            \n",
      "____________________________________________________________________________________________________\n",
      "input_2 (InputLayer)             (None, 5, 5, 60)      0                                            \n",
      "____________________________________________________________________________________________________\n",
      "reshape_1 (Reshape)              (None, 25, 25, 25, 1) 0           input_1[0][0]                    \n",
      "____________________________________________________________________________________________________\n",
      "reshape_2 (Reshape)              (None, 5, 5, 60, 1)   0           input_2[0][0]                    \n",
      "____________________________________________________________________________________________________\n",
      "convolution3d_1 (Convolution3D)  (None, 22, 22, 22, 3) 195         reshape_1[0][0]                  \n",
      "____________________________________________________________________________________________________\n",
      "convolution3d_2 (Convolution3D)  (None, 4, 4, 55, 10)  250         reshape_2[0][0]                  \n",
      "____________________________________________________________________________________________________\n",
      "maxpooling3d_1 (MaxPooling3D)    (None, 11, 11, 11, 3) 0           convolution3d_1[0][0]            \n",
      "____________________________________________________________________________________________________\n",
      "maxpooling3d_2 (MaxPooling3D)    (None, 2, 2, 27, 10)  0           convolution3d_2[0][0]            \n",
      "____________________________________________________________________________________________________\n",
      "flatten_1 (Flatten)              (None, 3993)          0           maxpooling3d_1[0][0]             \n",
      "____________________________________________________________________________________________________\n",
      "flatten_2 (Flatten)              (None, 1080)          0           maxpooling3d_2[0][0]             \n",
      "____________________________________________________________________________________________________\n",
      "merge_1 (Merge)                  (None, 5073)          0           flatten_1[0][0]                  \n",
      "                                                                   flatten_2[0][0]                  \n",
      "____________________________________________________________________________________________________\n",
      "dense_1 (Dense)                  (None, 1000)          5074000     merge_1[0][0]                    \n",
      "____________________________________________________________________________________________________\n",
      "dropout_1 (Dropout)              (None, 1000)          0           dense_1[0][0]                    \n",
      "____________________________________________________________________________________________________\n",
      "energy (Dense)                   (None, 1)             1001        dropout_1[0][0]                  \n",
      "====================================================================================================\n",
      "Total params: 5,075,446\n",
      "Trainable params: 5,075,446\n",
      "Non-trainable params: 0\n",
      "____________________________________________________________________________________________________\n"
     ]
    }
   ],
   "source": [
    "'''\n",
    "Regression model\n",
    "'''\n",
    "\n",
    "# ECAL input\n",
    "input1 = Input(shape = (25, 25, 25)) # This returns a tensor\n",
    "r = Reshape( (25,25,25,1))(input1)\n",
    "model1 = Convolution3D(3, 4, 4, 4, activation='relu')(r) # a layer instance is callable on a tensor, and returns a tensor\n",
    "model1 = MaxPooling3D()(model1)\n",
    "model1 = Flatten()(model1)\n",
    "\n",
    "# HCAL input\n",
    "input2 = Input(shape = (5, 5, 60))\n",
    "r = Reshape( (5,5,60,1))(input2)\n",
    "model2 = Convolution3D(10, 2, 2, 6, activation='relu')(r)\n",
    "model2 = MaxPooling3D()(model2)\n",
    "model2 = Flatten()(model2)\n",
    "\n",
    "# join the two input models\n",
    "bmodel = merge([model1,model2], mode='concat') # branched model\n",
    "\n",
    "# fully connected ending\n",
    "bmodel = (Dense(1000, activation='relu')) (bmodel)\n",
    "bmodel = (Dropout(0.5)) (bmodel)\n",
    "\n",
    "#oc = Dense(1,activation='sigmoid', name='particle_label')(bmodel) # output particle classification \n",
    "oe = Dense(1,activation='linear', name='energy')(bmodel) # output energy regression\n",
    "\n",
    "#classification, will not use yet\n",
    "#bimodel = Model(input=[input1,input2], output=[oc,oe])\n",
    "#bimodel.compile(loss=['binary_crossentropy', 'mse'], optimizer='sgd')\n",
    "#bimodel.summary()\n",
    "\n",
    "# energy regression model\n",
    "emodel = Model(input=[input1,input2], output=oe)\n",
    "emodel.compile(loss= 'mse', optimizer='adam')\n",
    "emodel.summary()"
   ]
  },
  {
   "cell_type": "markdown",
   "metadata": {},
   "source": [
    "Using Danny's generator:"
   ]
  },
  {
   "cell_type": "code",
   "execution_count": 5,
   "metadata": {
    "collapsed": true
   },
   "outputs": [],
   "source": [
    "if __package__ is None:\n",
    "    import sys, os\n",
    "    sys.path.append(os.path.realpath(\"/data/shared/Software/CMS_Deep_Learning\"))"
   ]
  },
  {
   "cell_type": "code",
   "execution_count": 6,
   "metadata": {
    "collapsed": true
   },
   "outputs": [],
   "source": [
    "from CMS_Deep_Learning.io import gen_from_data, retrieve_data"
   ]
  },
  {
   "cell_type": "markdown",
   "metadata": {},
   "source": [
    "Training model:"
   ]
  },
  {
   "cell_type": "code",
   "execution_count": 7,
   "metadata": {
    "collapsed": true
   },
   "outputs": [],
   "source": [
    "# defining directory to get the data from:\n",
    "data_dir = \"/bigdata/shared/LCD/NewV1/GammaEscan/GammaEscan_1_1.h5\"\n",
    "\n",
    "\n",
    "## Trying the data without the generator first\n",
    "\n",
    "# training set\n",
    "train1 = retrieve_data(data_dir, data_keys=[[\"ECAL\", \"HCAL\"], \"target\"])\n",
    "\n",
    "# validation set: (need to change this)\n",
    "#val1 = retrieve_data(data_dir, data_keys=[[\"ECAL\", \"HCAL\"], \"target\"])"
   ]
  },
  {
   "cell_type": "code",
   "execution_count": 8,
   "metadata": {
    "collapsed": true
   },
   "outputs": [],
   "source": [
    "# reshaping things for the training set\n",
    "(xe,xh), y = train1\n",
    "#print xe.shape\n",
    "\n",
    "#print y\n",
    "y = y[:, 1:]\n",
    "#print y.shape\n",
    "#print y"
   ]
  },
  {
   "cell_type": "code",
   "execution_count": 9,
   "metadata": {},
   "outputs": [
    {
     "name": "stdout",
     "output_type": "stream",
     "text": [
      "Epoch 1/50\n",
      "10000/10000 [==============================] - 4s - loss: 12111.8271     \n",
      "Epoch 2/50\n",
      "10000/10000 [==============================] - 3s - loss: 303.6184     \n",
      "Epoch 3/50\n",
      "10000/10000 [==============================] - 3s - loss: 241.0949     \n",
      "Epoch 4/50\n",
      "10000/10000 [==============================] - 3s - loss: 206.8849     \n",
      "Epoch 5/50\n",
      "10000/10000 [==============================] - 3s - loss: 200.4263     \n",
      "Epoch 6/50\n",
      "10000/10000 [==============================] - 3s - loss: 199.5512     \n",
      "Epoch 7/50\n",
      "10000/10000 [==============================] - 3s - loss: 195.2283     \n",
      "Epoch 8/50\n",
      "10000/10000 [==============================] - 3s - loss: 198.4973     \n",
      "Epoch 9/50\n",
      "10000/10000 [==============================] - 3s - loss: 195.8630     \n",
      "Epoch 10/50\n",
      "10000/10000 [==============================] - 3s - loss: 200.8132     \n",
      "Epoch 11/50\n",
      "10000/10000 [==============================] - 3s - loss: 198.3170     \n",
      "Epoch 12/50\n",
      "10000/10000 [==============================] - 3s - loss: 191.7023     \n",
      "Epoch 13/50\n",
      "10000/10000 [==============================] - 3s - loss: 195.3450     \n",
      "Epoch 14/50\n",
      "10000/10000 [==============================] - 3s - loss: 197.0565     \n",
      "Epoch 15/50\n",
      "10000/10000 [==============================] - 3s - loss: 195.0711     \n",
      "Epoch 16/50\n",
      "10000/10000 [==============================] - 3s - loss: 193.7862     \n",
      "Epoch 17/50\n",
      "10000/10000 [==============================] - 3s - loss: 195.9674     \n",
      "Epoch 18/50\n",
      "10000/10000 [==============================] - 3s - loss: 198.9075     \n",
      "Epoch 19/50\n",
      "10000/10000 [==============================] - 3s - loss: 198.7262     \n",
      "Epoch 20/50\n",
      "10000/10000 [==============================] - 3s - loss: 190.3186     \n",
      "Epoch 21/50\n",
      "10000/10000 [==============================] - 3s - loss: 193.2701     \n",
      "Epoch 22/50\n",
      "10000/10000 [==============================] - 3s - loss: 188.3092     \n",
      "Epoch 23/50\n",
      "10000/10000 [==============================] - 3s - loss: 192.5533     \n",
      "Epoch 24/50\n",
      "10000/10000 [==============================] - 3s - loss: 191.5516     \n",
      "Epoch 25/50\n",
      "10000/10000 [==============================] - 3s - loss: 190.8765     \n",
      "Epoch 26/50\n",
      "10000/10000 [==============================] - 3s - loss: 187.2469     \n",
      "Epoch 27/50\n",
      "10000/10000 [==============================] - 3s - loss: 189.5273     \n",
      "Epoch 28/50\n",
      "10000/10000 [==============================] - 3s - loss: 186.5553     \n",
      "Epoch 29/50\n",
      "10000/10000 [==============================] - 3s - loss: 192.1469     \n",
      "Epoch 30/50\n",
      "10000/10000 [==============================] - 3s - loss: 198.2160     \n",
      "Epoch 31/50\n",
      "10000/10000 [==============================] - 3s - loss: 193.0357     \n",
      "Epoch 32/50\n",
      "10000/10000 [==============================] - 3s - loss: 204.9666     \n",
      "Epoch 33/50\n",
      "10000/10000 [==============================] - 3s - loss: 189.8713     \n",
      "Epoch 34/50\n",
      "10000/10000 [==============================] - 3s - loss: 195.1957     \n",
      "Epoch 35/50\n",
      "10000/10000 [==============================] - 3s - loss: 189.8351     \n",
      "Epoch 36/50\n",
      "10000/10000 [==============================] - 3s - loss: 191.0446     \n",
      "Epoch 37/50\n",
      "10000/10000 [==============================] - 3s - loss: 189.4428     \n",
      "Epoch 38/50\n",
      "10000/10000 [==============================] - 3s - loss: 186.2125     \n",
      "Epoch 39/50\n",
      "10000/10000 [==============================] - 3s - loss: 194.5492     \n",
      "Epoch 40/50\n",
      "10000/10000 [==============================] - 3s - loss: 184.8964     \n",
      "Epoch 41/50\n",
      "10000/10000 [==============================] - 3s - loss: 194.3190     \n",
      "Epoch 42/50\n",
      "10000/10000 [==============================] - 3s - loss: 189.2124     \n",
      "Epoch 43/50\n",
      "10000/10000 [==============================] - 3s - loss: 194.1575     \n",
      "Epoch 44/50\n",
      "10000/10000 [==============================] - 3s - loss: 196.2227     \n",
      "Epoch 45/50\n",
      "10000/10000 [==============================] - 3s - loss: 192.8709     \n",
      "Epoch 46/50\n",
      "10000/10000 [==============================] - 3s - loss: 191.2555     \n",
      "Epoch 47/50\n",
      "10000/10000 [==============================] - 3s - loss: 184.1833     \n",
      "Epoch 48/50\n",
      "10000/10000 [==============================] - 3s - loss: 190.8202     \n",
      "Epoch 49/50\n",
      "10000/10000 [==============================] - 3s - loss: 185.7501     \n",
      "Epoch 50/50\n",
      "10000/10000 [==============================] - 3s - loss: 189.7726     \n"
     ]
    },
    {
     "name": "stderr",
     "output_type": "stream",
     "text": [
      "W tensorflow/core/platform/cpu_feature_guard.cc:45] The TensorFlow library wasn't compiled to use SSE3 instructions, but these are available on your machine and could speed up CPU computations.\r\n",
      "W tensorflow/core/platform/cpu_feature_guard.cc:45] The TensorFlow library wasn't compiled to use SSE4.1 instructions, but these are available on your machine and could speed up CPU computations.\r\n",
      "W tensorflow/core/platform/cpu_feature_guard.cc:45] The TensorFlow library wasn't compiled to use SSE4.2 instructions, but these are available on your machine and could speed up CPU computations.\r\n",
      "W tensorflow/core/platform/cpu_feature_guard.cc:45] The TensorFlow library wasn't compiled to use AVX instructions, but these are available on your machine and could speed up CPU computations.\r\n",
      "W tensorflow/core/platform/cpu_feature_guard.cc:45] The TensorFlow library wasn't compiled to use AVX2 instructions, but these are available on your machine and could speed up CPU computations.\r\n",
      "W tensorflow/core/platform/cpu_feature_guard.cc:45] The TensorFlow library wasn't compiled to use FMA instructions, but these are available on your machine and could speed up CPU computations.\r\n",
      "I tensorflow/core/common_runtime/gpu/gpu_device.cc:885] Found device 0 with properties: \r\n",
      "name: GeForce GTX 1080\r\n",
      "major: 6 minor: 1 memoryClockRate (GHz) 1.7335\r\n",
      "pciBusID 0000:0c:00.0\r\n",
      "Total memory: 7.92GiB\r\n",
      "Free memory: 6.05GiB\r\n",
      "I tensorflow/core/common_runtime/gpu/gpu_device.cc:906] DMA: 0 \r\n",
      "I tensorflow/core/common_runtime/gpu/gpu_device.cc:916] 0:   Y \r\n",
      "I tensorflow/core/common_runtime/gpu/gpu_device.cc:975] Creating TensorFlow device (/gpu:0) -> (device: 0, name: GeForce GTX 1080, pci bus id: 0000:0c:00.0)\r\n"
     ]
    }
   ],
   "source": [
    "hist1 = emodel.fit([xe, xh], y, nb_epoch=50,\n",
    "                    #validation_data = [vx,vy], vy,\n",
    "                    verbose=1)"
   ]
  },
  {
   "cell_type": "code",
   "execution_count": 10,
   "metadata": {
    "collapsed": true
   },
   "outputs": [],
   "source": [
    "def show_losses( histories ):\n",
    "    plt.figure(figsize=(5,5))\n",
    "    #plt.ylim(bottom=0)\n",
    "    plt.xlabel('Epoch')\n",
    "    plt.ylabel('Loss')\n",
    "    plt.title('Training Error by Epoch')\n",
    "    colors = []\n",
    "    do_acc = False\n",
    "    \n",
    "    for label,loss in histories:\n",
    "        color = tuple(np.random.random(3))\n",
    "        colors.append(color)\n",
    "        l = label\n",
    "        vl= label + \" validation\"\n",
    "        \n",
    "        if 'acc' in loss.history:\n",
    "            l += ' (acc %2.4f)' % (loss.history['acc'][-1])\n",
    "            do_acc = True\n",
    "            \n",
    "        if 'val_acc' in loss.history:\n",
    "            vl += ' (val acc %2.4f)' % (loss.history['val_acc'][-1])\n",
    "            do_acc = True\n",
    "        plt.plot(loss.history['loss'], label=l, color=color)\n",
    "        \n",
    "        if 'val_loss' in loss.history:\n",
    "            plt.plot(loss.history['val_loss'], lw=2, ls='dashed', label=vl, color=color)\n",
    "\n",
    "    plt.legend()\n",
    "    plt.yscale('log')\n",
    "    plt.show()\n",
    "    \n",
    "    if not do_acc: return\n",
    "    \n",
    "    plt.figure(figsize=(5,5))\n",
    "    plt.xlabel('Epoch')\n",
    "    plt.ylabel('Accuracy')\n",
    "    \n",
    "    for i,(label,loss) in enumerate(histories):\n",
    "        color = colors[i]\n",
    "        if 'acc' in loss.history:\n",
    "            plt.plot(loss.history['acc'], lw=2, label=label+\" accuracy\", color=color)\n",
    "            \n",
    "        if 'val_acc' in loss.history:\n",
    "            plt.plot(loss.history['val_acc'], lw=2, ls='dashed', label=label+\" validation accuracy\", color=color)\n",
    "    \n",
    "    plt.legend(loc='lower right')\n",
    "    plt.show()"
   ]
  },
  {
   "cell_type": "code",
   "execution_count": 11,
   "metadata": {
    "collapsed": true
   },
   "outputs": [],
   "source": [
    "# Function to reshape the data, parameter to Danny's generator\n",
    "def reshapeData(inp):\n",
    "    (xe, xh), y = inp\n",
    "    energy = [y[:,1:]]\n",
    "    return (xe, xh), energy"
   ]
  },
  {
   "cell_type": "code",
   "execution_count": 12,
   "metadata": {
    "collapsed": true
   },
   "outputs": [],
   "source": [
    "## Using Danny's generator\n",
    "\n",
    "train_dir = \"/home/vitoriabp/CaloImage_2017/GammaEscan/train\"\n",
    "valid_dir = \"/home/vitoriabp/CaloImage_2017/GammaEscan/valid\"\n",
    "test_dir = \"/home/vitoriabp/CaloImage_2017/GammaEscan/test\"\n",
    "\n",
    "# training set:\n",
    "train2 = gen_from_data(train_dir, batch_size=500, data_keys=[[\"ECAL\", \"HCAL\"], \"target\"], prep_func=reshapeData)\n",
    "\n",
    "# validation set:\n",
    "val2 = gen_from_data(valid_dir, batch_size=500, data_keys=[[\"ECAL\", \"HCAL\"], \"target\"], prep_func=reshapeData)\n",
    "\n",
    "#testing set:\n",
    "test2 = gen_from_data(valid_dir, batch_size=500, data_keys=[[\"ECAL\", \"HCAL\"], \"target\"], prep_func=reshapeData)\n",
    "\n",
    "#check = ModelCheckpoint(filepath=\"temp.hdf5\", verbose=1)\n",
    "#early = EarlyStopping(monitor='val_loss', patience=10, verbose=1, mode='auto')\n",
    "#emodel.summary()"
   ]
  },
  {
   "cell_type": "code",
   "execution_count": 13,
   "metadata": {},
   "outputs": [
    {
     "name": "stdout",
     "output_type": "stream",
     "text": [
      "(500, 25, 25, 25)\n",
      "(500, 5, 5, 60)\n",
      "(500, 1)\n"
     ]
    }
   ],
   "source": [
    "# check training data\n",
    "#print(train2)\n",
    "#for x in train2:\n",
    "    #print('moo')\n",
    "    #pass\n",
    "(xe2, xh2), y2 = next(train2)\n",
    "#txe2 = ecal input\n",
    "#txh2 = hcal input\n",
    "#ty2 = energy target\n",
    "\n",
    "print(xe2.shape)\n",
    "print(xh2.shape)\n",
    "print(y2.shape)"
   ]
  },
  {
   "cell_type": "code",
   "execution_count": 14,
   "metadata": {
    "scrolled": true
   },
   "outputs": [
    {
     "name": "stdout",
     "output_type": "stream",
     "text": [
      "Epoch 1/50\n",
      "1000/1000 [==============================] - 12s - loss: 182.8920 - val_loss: 30.1014\n",
      "Epoch 2/50\n",
      "1000/1000 [==============================] - 13s - loss: 233.9115 - val_loss: 16.7284\n",
      "Epoch 3/50\n",
      "1000/1000 [==============================] - 0s - loss: 196.2614 - val_loss: 35.2665\n",
      "Epoch 4/50\n",
      "1000/1000 [==============================] - 14s - loss: 227.5551 - val_loss: 27.2878\n",
      "Epoch 5/50\n",
      "1000/1000 [==============================] - 12s - loss: 167.8668 - val_loss: 13.0923\n",
      "Epoch 6/50\n",
      "1000/1000 [==============================] - 16s - loss: 189.5012 - val_loss: 35.7396\n",
      "Epoch 7/50\n",
      "1000/1000 [==============================] - 11s - loss: 179.1544 - val_loss: 31.2451\n",
      "Epoch 8/50\n",
      "1000/1000 [==============================] - 0s - loss: 195.6350 - val_loss: 20.2603\n",
      "Epoch 9/50\n",
      "1000/1000 [==============================] - 10s - loss: 197.9208 - val_loss: 18.5359\n",
      "Epoch 10/50\n",
      "1000/1000 [==============================] - 0s - loss: 186.9233 - val_loss: 27.4769\n",
      "Epoch 11/50\n",
      "1000/1000 [==============================] - 10s - loss: 182.0564 - val_loss: 19.9727\n",
      "Epoch 12/50\n",
      "1000/1000 [==============================] - 15s - loss: 179.2143 - val_loss: 18.1257\n",
      "Epoch 13/50\n",
      "1000/1000 [==============================] - 0s - loss: 216.5001 - val_loss: 18.2810\n",
      "Epoch 14/50\n",
      "1000/1000 [==============================] - 10s - loss: 204.6296 - val_loss: 24.7237\n",
      "Epoch 15/50\n",
      "1000/1000 [==============================] - 16s - loss: 183.1688 - val_loss: 15.7462\n",
      "Epoch 16/50\n",
      "1000/1000 [==============================] - 14s - loss: 190.6143 - val_loss: 16.5706\n",
      "Epoch 17/50\n",
      "1000/1000 [==============================] - 11s - loss: 213.4270 - val_loss: 25.9195\n",
      "Epoch 18/50\n",
      "1000/1000 [==============================] - 0s - loss: 189.7890 - val_loss: 15.5607\n",
      "Epoch 19/50\n",
      "1000/1000 [==============================] - 13s - loss: 196.1408 - val_loss: 18.9180\n",
      "Epoch 20/50\n",
      "1000/1000 [==============================] - 0s - loss: 200.5760 - val_loss: 16.8274\n",
      "Epoch 21/50\n",
      "1000/1000 [==============================] - 12s - loss: 205.0261 - val_loss: 17.0407\n",
      "Epoch 22/50\n",
      "1000/1000 [==============================] - 11s - loss: 172.3310 - val_loss: 35.6185\n",
      "Epoch 23/50\n",
      "1000/1000 [==============================] - 0s - loss: 182.7713 - val_loss: 14.0795\n",
      "Epoch 24/50\n",
      "1000/1000 [==============================] - 12s - loss: 192.5765 - val_loss: 14.6678\n",
      "Epoch 25/50\n",
      "1000/1000 [==============================] - 13s - loss: 172.8643 - val_loss: 17.8881\n",
      "Epoch 26/50\n",
      "1000/1000 [==============================] - 11s - loss: 190.8247 - val_loss: 17.6172\n",
      "Epoch 27/50\n",
      "1000/1000 [==============================] - 10s - loss: 164.4130 - val_loss: 19.2821\n",
      "Epoch 28/50\n",
      "1000/1000 [==============================] - 0s - loss: 225.0165 - val_loss: 28.4806\n",
      "Epoch 29/50\n",
      "1000/1000 [==============================] - 13s - loss: 186.9067 - val_loss: 14.1676\n",
      "Epoch 30/50\n",
      "1000/1000 [==============================] - 0s - loss: 189.7929 - val_loss: 32.3403\n",
      "Epoch 31/50\n",
      "1000/1000 [==============================] - 7s - loss: 174.3801 - val_loss: 30.5708\n",
      "Epoch 32/50\n",
      "1000/1000 [==============================] - 9s - loss: 215.4912 - val_loss: 16.8898\n",
      "Epoch 33/50\n",
      "1000/1000 [==============================] - 0s - loss: 188.0268 - val_loss: 21.1827\n",
      "Epoch 34/50\n",
      "1000/1000 [==============================] - 10s - loss: 202.1201 - val_loss: 23.7285\n",
      "Epoch 35/50\n",
      "1000/1000 [==============================] - 12s - loss: 181.6510 - val_loss: 24.5771\n",
      "Epoch 36/50\n",
      "1000/1000 [==============================] - 12s - loss: 185.6347 - val_loss: 21.1953\n",
      "Epoch 37/50\n",
      "1000/1000 [==============================] - 9s - loss: 165.0308 - val_loss: 76.1071\n",
      "Epoch 38/50\n",
      "1000/1000 [==============================] - 0s - loss: 188.1158 - val_loss: 18.5295\n",
      "Epoch 39/50\n",
      "1000/1000 [==============================] - 13s - loss: 177.1975 - val_loss: 16.9803\n",
      "Epoch 40/50\n",
      "1000/1000 [==============================] - 0s - loss: 191.2516 - val_loss: 15.7197\n",
      "Epoch 41/50\n",
      "1000/1000 [==============================] - 8s - loss: 176.2804 - val_loss: 17.1013\n",
      "Epoch 42/50\n",
      "1000/1000 [==============================] - 12s - loss: 172.5232 - val_loss: 18.3275\n",
      "Epoch 43/50\n",
      "1000/1000 [==============================] - 0s - loss: 173.1006 - val_loss: 16.9765\n",
      "Epoch 44/50\n",
      "1000/1000 [==============================] - 8s - loss: 172.9162 - val_loss: 30.6495\n",
      "Epoch 45/50\n",
      "1000/1000 [==============================] - 10s - loss: 194.7239 - val_loss: 19.3505\n",
      "Epoch 46/50\n",
      "1000/1000 [==============================] - 13s - loss: 180.5443 - val_loss: 15.9029\n",
      "Epoch 47/50\n",
      "1000/1000 [==============================] - 9s - loss: 202.4096 - val_loss: 16.0485\n",
      "Epoch 48/50\n",
      "1000/1000 [==============================] - 0s - loss: 168.8641 - val_loss: 21.7705\n",
      "Epoch 49/50\n",
      "1000/1000 [==============================] - 13s - loss: 169.1408 - val_loss: 16.6005\n",
      "Epoch 50/50\n",
      "1000/1000 [==============================] - 0s - loss: 174.7108 - val_loss: 16.2511\n"
     ]
    }
   ],
   "source": [
    "hist2 = emodel.fit_generator(train2, samples_per_epoch=1000, \n",
    "                           nb_epoch=50,\n",
    "                           validation_data = val2, \n",
    "                           nb_val_samples=1000, verbose=1,\n",
    "                        #validation_split=0.2,\n",
    "                  #callbacks=[EarlyStopping(monitor='val_loss', patience=5, verbose=1, mode='min'),\n",
    "                            #ModelCheckpoint(filepath='simple.h5', verbose=0)]\n",
    "                            )"
   ]
  },
  {
   "cell_type": "code",
   "execution_count": 15,
   "metadata": {
    "scrolled": true
   },
   "outputs": [
    {
     "data": {
      "image/png": "[encoded data removed]",
      "text/plain": [
       "<matplotlib.figure.Figure at 0x7f924cccbc10>"
      ]
     },
     "metadata": {},
     "output_type": "display_data"
    }
   ],
   "source": [
    "show_losses([(\"model_generator\", hist2), (\"without_gen\", hist1)])"
   ]
  },
  {
   "cell_type": "code",
   "execution_count": 16,
   "metadata": {},
   "outputs": [
    {
     "name": "stdout",
     "output_type": "stream",
     "text": [
      "____________________________________________________________________________________________________\n",
      "Layer (type)                     Output Shape          Param #     Connected to                     \n",
      "====================================================================================================\n",
      "input_1 (InputLayer)             (None, 25, 25, 25)    0                                            \n",
      "____________________________________________________________________________________________________\n",
      "input_2 (InputLayer)             (None, 5, 5, 60)      0                                            \n",
      "____________________________________________________________________________________________________\n",
      "reshape_1 (Reshape)              (None, 25, 25, 25, 1) 0           input_1[0][0]                    \n",
      "____________________________________________________________________________________________________\n",
      "reshape_2 (Reshape)              (None, 5, 5, 60, 1)   0           input_2[0][0]                    \n",
      "____________________________________________________________________________________________________\n",
      "convolution3d_1 (Convolution3D)  (None, 22, 22, 22, 3) 195         reshape_1[0][0]                  \n",
      "____________________________________________________________________________________________________\n",
      "convolution3d_2 (Convolution3D)  (None, 4, 4, 55, 10)  250         reshape_2[0][0]                  \n",
      "____________________________________________________________________________________________________\n",
      "maxpooling3d_1 (MaxPooling3D)    (None, 11, 11, 11, 3) 0           convolution3d_1[0][0]            \n",
      "____________________________________________________________________________________________________\n",
      "maxpooling3d_2 (MaxPooling3D)    (None, 2, 2, 27, 10)  0           convolution3d_2[0][0]            \n",
      "____________________________________________________________________________________________________\n",
      "flatten_1 (Flatten)              (None, 3993)          0           maxpooling3d_1[0][0]             \n",
      "____________________________________________________________________________________________________\n",
      "flatten_2 (Flatten)              (None, 1080)          0           maxpooling3d_2[0][0]             \n",
      "____________________________________________________________________________________________________\n",
      "merge_1 (Merge)                  (None, 5073)          0           flatten_1[0][0]                  \n",
      "                                                                   flatten_2[0][0]                  \n",
      "____________________________________________________________________________________________________\n",
      "dense_1 (Dense)                  (None, 1000)          5074000     merge_1[0][0]                    \n",
      "____________________________________________________________________________________________________\n",
      "dropout_1 (Dropout)              (None, 1000)          0           dense_1[0][0]                    \n",
      "____________________________________________________________________________________________________\n",
      "energy (Dense)                   (None, 1)             1001        dropout_1[0][0]                  \n",
      "====================================================================================================\n",
      "Total params: 5,075,446\n",
      "Trainable params: 5,075,446\n",
      "Non-trainable params: 0\n",
      "____________________________________________________________________________________________________\n"
     ]
    }
   ],
   "source": [
    "emodel.summary()"
   ]
  },
  {
   "cell_type": "code",
   "execution_count": 17,
   "metadata": {},
   "outputs": [
    {
     "name": "stdout",
     "output_type": "stream",
     "text": [
      "____________________________________________________________________________________________________\n",
      "Layer (type)                     Output Shape          Param #     Connected to                     \n",
      "====================================================================================================\n",
      "input_1 (InputLayer)             (None, 25, 25, 25)    0                                            \n",
      "____________________________________________________________________________________________________\n",
      "input_2 (InputLayer)             (None, 5, 5, 60)      0                                            \n",
      "____________________________________________________________________________________________________\n",
      "reshape_1 (Reshape)              (None, 25, 25, 25, 1) 0           input_1[0][0]                    \n",
      "____________________________________________________________________________________________________\n",
      "reshape_2 (Reshape)              (None, 5, 5, 60, 1)   0           input_2[0][0]                    \n",
      "____________________________________________________________________________________________________\n",
      "convolution3d_1 (Convolution3D)  (None, 22, 22, 22, 3) 195         reshape_1[0][0]                  \n",
      "____________________________________________________________________________________________________\n",
      "convolution3d_2 (Convolution3D)  (None, 4, 4, 55, 10)  250         reshape_2[0][0]                  \n",
      "____________________________________________________________________________________________________\n",
      "maxpooling3d_1 (MaxPooling3D)    (None, 11, 11, 11, 3) 0           convolution3d_1[0][0]            \n",
      "____________________________________________________________________________________________________\n",
      "maxpooling3d_2 (MaxPooling3D)    (None, 2, 2, 27, 10)  0           convolution3d_2[0][0]            \n",
      "____________________________________________________________________________________________________\n",
      "flatten_1 (Flatten)              (None, 3993)          0           maxpooling3d_1[0][0]             \n",
      "____________________________________________________________________________________________________\n",
      "flatten_2 (Flatten)              (None, 1080)          0           maxpooling3d_2[0][0]             \n",
      "____________________________________________________________________________________________________\n",
      "merge_1 (Merge)                  (None, 5073)          0           flatten_1[0][0]                  \n",
      "                                                                   flatten_2[0][0]                  \n",
      "____________________________________________________________________________________________________\n",
      "dense_1 (Dense)                  (None, 1000)          5074000     merge_1[0][0]                    \n",
      "____________________________________________________________________________________________________\n",
      "dropout_1 (Dropout)              (None, 1000)          0           dense_1[0][0]                    \n",
      "____________________________________________________________________________________________________\n",
      "energy (Dense)                   (None, 1)             1001        dropout_1[0][0]                  \n",
      "====================================================================================================\n",
      "Total params: 5,075,446\n",
      "Trainable params: 5,075,446\n",
      "Non-trainable params: 0\n",
      "____________________________________________________________________________________________________\n"
     ]
    }
   ],
   "source": [
    "saveModel(emodel, \"regression_1\")"
   ]
  },
  {
   "cell_type": "markdown",
   "metadata": {},
   "source": [
    "Testing the model:"
   ]
  },
  {
   "cell_type": "code",
   "execution_count": 18,
   "metadata": {},
   "outputs": [
    {
     "name": "stdout",
     "output_type": "stream",
     "text": [
      "(500, 25, 25, 25)\n",
      "(500, 5, 5, 60)\n",
      "(1,)\n"
     ]
    }
   ],
   "source": [
    "# define testing data\n",
    "(txe2, txh2), ty2 = next(test2)\n",
    "#txe2 -> ecal input\n",
    "#txh2 -> hcal input\n",
    "#ty2 -> energy target\n",
    "\n",
    "print(txe2.shape)\n",
    "print(txh2.shape)\n",
    "print(ty2[0].shape)"
   ]
  },
  {
   "cell_type": "code",
   "execution_count": 19,
   "metadata": {},
   "outputs": [
    {
     "name": "stdout",
     "output_type": "stream",
     "text": [
      "(500, 1)\n"
     ]
    }
   ],
   "source": [
    "pred = emodel.predict([txe2, txh2])\n",
    "print pred.shape"
   ]
  },
  {
   "cell_type": "code",
   "execution_count": 20,
   "metadata": {
    "collapsed": true
   },
   "outputs": [],
   "source": [
    "#print pred"
   ]
  },
  {
   "cell_type": "code",
   "execution_count": 21,
   "metadata": {},
   "outputs": [
    {
     "data": {
      "text/plain": [
       "'\\nToo complicated :P\\ndef compareEnergy(predictedEnergies, targets):\\n    diff = []\\n    for i in range(len(predictedEnergies)):\\n        d = predictedEnergies[i] - targets[0][i]\\n        #print d\\n        diff.append(d)\\n    #print diff\\n    return diff\\n'"
      ]
     },
     "execution_count": 21,
     "metadata": {},
     "output_type": "execute_result"
    }
   ],
   "source": [
    "# This function returns the difference between the precicted energy and the real (target) energy of the particle.\n",
    "# \"targets\" is an array of lists, of size 1. This is why we need to do targets[0][i] instead of only targets[i].\n",
    "'''\n",
    "Too complicated :P\n",
    "def compareEnergy(predictedEnergies, targets):\n",
    "    diff = []\n",
    "    for i in range(len(predictedEnergies)):\n",
    "        d = predictedEnergies[i] - targets[0][i]\n",
    "        #print d\n",
    "        diff.append(d)\n",
    "    #print diff\n",
    "    return diff\n",
    "'''"
   ]
  },
  {
   "cell_type": "code",
   "execution_count": 22,
   "metadata": {
    "collapsed": true
   },
   "outputs": [],
   "source": [
    "#print len(pred)"
   ]
  },
  {
   "cell_type": "code",
   "execution_count": 23,
   "metadata": {
    "collapsed": true
   },
   "outputs": [],
   "source": [
    "#print len(ty2[0])"
   ]
  },
  {
   "cell_type": "code",
   "execution_count": 25,
   "metadata": {},
   "outputs": [
    {
     "name": "stdout",
     "output_type": "stream",
     "text": [
      "(500,)\n",
      "(500,)\n"
     ]
    }
   ],
   "source": [
    "# Defining array of values that will contain the difference between the predicted energy and the target energy\n",
    "\n",
    "diff = pred-ty2\n",
    "\n",
    "# defining the relative diference to the target energy of the particle\n",
    "rDif = diff/ty2\n",
    "\n",
    "#print(diff.shape)\n",
    "#print rDif.shape\n",
    "\n",
    "diff = diff.reshape((diff.shape[0],))\n",
    "rDif = rDif.reshape((rDif.shape[0],))\n",
    "\n",
    "print(diff.shape)\n",
    "print rDif.shape"
   ]
  },
  {
   "cell_type": "code",
   "execution_count": 26,
   "metadata": {
    "collapsed": true
   },
   "outputs": [],
   "source": [
    "# This function returns the difference between the target energy and the predicted energy\n",
    "def dif(target, predicted):\n",
    "    dif = target - predicted\n",
    "    dif = dif.reshape((dif.shape[0],))\n",
    "    return dif"
   ]
  },
  {
   "cell_type": "code",
   "execution_count": 27,
   "metadata": {
    "collapsed": true
   },
   "outputs": [],
   "source": [
    "# This function returns the relative difference to the target energy of the particle\n",
    "def rDif(target, predicted):\n",
    "    dif = target - predicted\n",
    "    rDif = dif/target\n",
    "    rDif = rDif.reshape((rDif.shape[0],))\n",
    "    return rDif"
   ]
  },
  {
   "cell_type": "code",
   "execution_count": 28,
   "metadata": {},
   "outputs": [
    {
     "name": "stdout",
     "output_type": "stream",
     "text": [
      "500\n",
      "500\n"
     ]
    }
   ],
   "source": [
    "print ty2.size\n",
    "print pred.size"
   ]
  },
  {
   "cell_type": "code",
   "execution_count": 29,
   "metadata": {
    "collapsed": true
   },
   "outputs": [],
   "source": [
    "# This function plots the predicted energy against the target energy.\n",
    "def plotPredictedXTarget(target, predicted):\n",
    "    plt.figure(figsize=(5,5))\n",
    "    plt.xlabel(\"Target energy (GeV)\")\n",
    "    plt.ylabel(\"Predicted energy (GeV)\")\n",
    "    plt.title(\"Comparing the predicted energy with the real energy of the particle\")\n",
    "    \n",
    "    plt.scatter(target, predicted, color='g', alpha = 0.5)\n",
    "    \n",
    "    plt.xlim(0, 550)\n",
    "    plt.ylim(0, 550)\n",
    "    \n",
    "    plt.legend()\n",
    "    plt.show()"
   ]
  },
  {
   "cell_type": "code",
   "execution_count": 30,
   "metadata": {},
   "outputs": [
    {
     "name": "stderr",
     "output_type": "stream",
     "text": [
      "/usr/local/lib/python2.7/dist-packages/matplotlib/axes/_axes.py:531: UserWarning: No labelled objects found. Use label='...' kwarg on individual plots.\n",
      "  warnings.warn(\"No labelled objects found. \"\n"
     ]
    },
    {
     "data": {
      "image/png": "[encoded data removed]",
      "text/plain": [
       "<matplotlib.figure.Figure at 0x7f929eddea90>"
      ]
     },
     "metadata": {},
     "output_type": "display_data"
    }
   ],
   "source": [
    "plotPredictedXTarget(ty2, pred)"
   ]
  },
  {
   "cell_type": "code",
   "execution_count": 31,
   "metadata": {
    "collapsed": true
   },
   "outputs": [],
   "source": [
    "import matplotlib.mlab as mlab\n",
    "from scipy.stats import norm"
   ]
  },
  {
   "cell_type": "code",
   "execution_count": 32,
   "metadata": {
    "collapsed": true
   },
   "outputs": [],
   "source": [
    "# Plots histogram of the difference between the predicted energy and the target energy (GeV)\n",
    "\n",
    "def histEDif(difference):\n",
    "    # the histogram of the data\n",
    "    n, bins, patches = plt.hist(difference, 1000, normed=1, facecolor='green', alpha=0.75)\n",
    "    \n",
    "    # best fit of data\n",
    "    (mu, sigma) = norm.fit(difference)\n",
    "\n",
    "    # add a 'best fit' line\n",
    "    y = mlab.normpdf( bins, mu, sigma)\n",
    "    l = plt.plot(bins, y, 'r--', linewidth=1)\n",
    "\n",
    "    plt.xlabel('Difference between the predicted energy and the target energy (GeV)')\n",
    "    plt.ylabel('Probability')\n",
    "    plt.title('Histogram of the energy difference for the regression model')\n",
    "    \n",
    "    plt.xlim(-25, 25)\n",
    "\n",
    "    plt.show()"
   ]
  },
  {
   "cell_type": "code",
   "execution_count": 33,
   "metadata": {},
   "outputs": [
    {
     "data": {
      "image/png": "[encoded data removed]",
      "text/plain": [
       "<matplotlib.figure.Figure at 0x7f91c475d9d0>"
      ]
     },
     "metadata": {},
     "output_type": "display_data"
    }
   ],
   "source": [
    "histEDif(diff)"
   ]
  },
  {
   "cell_type": "code",
   "execution_count": 34,
   "metadata": {
    "collapsed": true
   },
   "outputs": [],
   "source": [
    "# Plots histogram of the normalized energy difference (%)\n",
    "\n",
    "def histRelDif(difference):\n",
    "    # the histogram of the data\n",
    "    n, bins, patches = plt.hist(difference, 300, normed=1, facecolor='green', alpha=0.75)\n",
    "    std = np.std( difference )\n",
    "    # best fit of data\n",
    "    print std\n",
    "    (mu, sigma) = norm.fit(difference, range = (-std,std))\n",
    "\n",
    "    print mu, sigma\n",
    "    # add a \"best fit\" line\n",
    "    y = mlab.normpdf( bins, mu, sigma)\n",
    "    l = plt.plot(bins, y, 'r--', linewidth=1)\n",
    "\n",
    "    plt.xlim(-0.2, 0.2)\n",
    "    plt.xlabel('Relative difference between the predicted energy and the target energy (%)')\n",
    "    plt.ylabel('Occurrences')\n",
    "    plt.title('Histogram of the relative energy difference for the regression model')\n",
    "\n",
    "    plt.show()"
   ]
  },
  {
   "cell_type": "code",
   "execution_count": 35,
   "metadata": {},
   "outputs": [
    {
     "ename": "TypeError",
     "evalue": "'function' object is not iterable",
     "output_type": "error",
     "traceback": [
      "\u001b[0;31m\u001b[0m",
      "\u001b[0;31mTypeError\u001b[0mTraceback (most recent call last)",
      "\u001b[0;32m<ipython-input-35-87a76eebaf69>\u001b[0m in \u001b[0;36m<module>\u001b[0;34m()\u001b[0m\n\u001b[0;32m----> 1\u001b[0;31m \u001b[0mhistRelDif\u001b[0m\u001b[0;34m(\u001b[0m\u001b[0mrDif\u001b[0m\u001b[0;34m)\u001b[0m\u001b[0;34m\u001b[0m\u001b[0m\n\u001b[0m",
      "\u001b[0;32m<ipython-input-34-6b33853404cf>\u001b[0m in \u001b[0;36mhistRelDif\u001b[0;34m(difference)\u001b[0m\n\u001b[1;32m      3\u001b[0m \u001b[0;32mdef\u001b[0m \u001b[0mhistRelDif\u001b[0m\u001b[0;34m(\u001b[0m\u001b[0mdifference\u001b[0m\u001b[0;34m)\u001b[0m\u001b[0;34m:\u001b[0m\u001b[0;34m\u001b[0m\u001b[0m\n\u001b[1;32m      4\u001b[0m     \u001b[0;31m# the histogram of the data\u001b[0m\u001b[0;34m\u001b[0m\u001b[0;34m\u001b[0m\u001b[0m\n\u001b[0;32m----> 5\u001b[0;31m     \u001b[0mn\u001b[0m\u001b[0;34m,\u001b[0m \u001b[0mbins\u001b[0m\u001b[0;34m,\u001b[0m \u001b[0mpatches\u001b[0m \u001b[0;34m=\u001b[0m \u001b[0mplt\u001b[0m\u001b[0;34m.\u001b[0m\u001b[0mhist\u001b[0m\u001b[0;34m(\u001b[0m\u001b[0mdifference\u001b[0m\u001b[0;34m,\u001b[0m \u001b[0;36m300\u001b[0m\u001b[0;34m,\u001b[0m \u001b[0mnormed\u001b[0m\u001b[0;34m=\u001b[0m\u001b[0;36m1\u001b[0m\u001b[0;34m,\u001b[0m \u001b[0mfacecolor\u001b[0m\u001b[0;34m=\u001b[0m\u001b[0;34m'green'\u001b[0m\u001b[0;34m,\u001b[0m \u001b[0malpha\u001b[0m\u001b[0;34m=\u001b[0m\u001b[0;36m0.75\u001b[0m\u001b[0;34m)\u001b[0m\u001b[0;34m\u001b[0m\u001b[0m\n\u001b[0m\u001b[1;32m      6\u001b[0m     \u001b[0mstd\u001b[0m \u001b[0;34m=\u001b[0m \u001b[0mnp\u001b[0m\u001b[0;34m.\u001b[0m\u001b[0mstd\u001b[0m\u001b[0;34m(\u001b[0m \u001b[0mdifference\u001b[0m \u001b[0;34m)\u001b[0m\u001b[0;34m\u001b[0m\u001b[0m\n\u001b[1;32m      7\u001b[0m     \u001b[0;31m# best fit of data\u001b[0m\u001b[0;34m\u001b[0m\u001b[0;34m\u001b[0m\u001b[0m\n",
      "\u001b[0;32m/usr/local/lib/python2.7/dist-packages/matplotlib/pyplot.pyc\u001b[0m in \u001b[0;36mhist\u001b[0;34m(x, bins, range, normed, weights, cumulative, bottom, histtype, align, orientation, rwidth, log, color, label, stacked, hold, data, **kwargs)\u001b[0m\n\u001b[1;32m   2963\u001b[0m                       \u001b[0mhisttype\u001b[0m\u001b[0;34m=\u001b[0m\u001b[0mhisttype\u001b[0m\u001b[0;34m,\u001b[0m \u001b[0malign\u001b[0m\u001b[0;34m=\u001b[0m\u001b[0malign\u001b[0m\u001b[0;34m,\u001b[0m \u001b[0morientation\u001b[0m\u001b[0;34m=\u001b[0m\u001b[0morientation\u001b[0m\u001b[0;34m,\u001b[0m\u001b[0;34m\u001b[0m\u001b[0m\n\u001b[1;32m   2964\u001b[0m                       \u001b[0mrwidth\u001b[0m\u001b[0;34m=\u001b[0m\u001b[0mrwidth\u001b[0m\u001b[0;34m,\u001b[0m \u001b[0mlog\u001b[0m\u001b[0;34m=\u001b[0m\u001b[0mlog\u001b[0m\u001b[0;34m,\u001b[0m \u001b[0mcolor\u001b[0m\u001b[0;34m=\u001b[0m\u001b[0mcolor\u001b[0m\u001b[0;34m,\u001b[0m \u001b[0mlabel\u001b[0m\u001b[0;34m=\u001b[0m\u001b[0mlabel\u001b[0m\u001b[0;34m,\u001b[0m\u001b[0;34m\u001b[0m\u001b[0m\n\u001b[0;32m-> 2965\u001b[0;31m                       stacked=stacked, data=data, **kwargs)\n\u001b[0m\u001b[1;32m   2966\u001b[0m     \u001b[0;32mfinally\u001b[0m\u001b[0;34m:\u001b[0m\u001b[0;34m\u001b[0m\u001b[0m\n\u001b[1;32m   2967\u001b[0m         \u001b[0max\u001b[0m\u001b[0;34m.\u001b[0m\u001b[0mhold\u001b[0m\u001b[0;34m(\u001b[0m\u001b[0mwashold\u001b[0m\u001b[0;34m)\u001b[0m\u001b[0;34m\u001b[0m\u001b[0m\n",
      "\u001b[0;32m/usr/local/lib/python2.7/dist-packages/matplotlib/__init__.pyc\u001b[0m in \u001b[0;36minner\u001b[0;34m(ax, *args, **kwargs)\u001b[0m\n\u001b[1;32m   1817\u001b[0m                     warnings.warn(msg % (label_namer, func.__name__),\n\u001b[1;32m   1818\u001b[0m                                   RuntimeWarning, stacklevel=2)\n\u001b[0;32m-> 1819\u001b[0;31m             \u001b[0;32mreturn\u001b[0m \u001b[0mfunc\u001b[0m\u001b[0;34m(\u001b[0m\u001b[0max\u001b[0m\u001b[0;34m,\u001b[0m \u001b[0;34m*\u001b[0m\u001b[0margs\u001b[0m\u001b[0;34m,\u001b[0m \u001b[0;34m**\u001b[0m\u001b[0mkwargs\u001b[0m\u001b[0;34m)\u001b[0m\u001b[0;34m\u001b[0m\u001b[0m\n\u001b[0m\u001b[1;32m   1820\u001b[0m         \u001b[0mpre_doc\u001b[0m \u001b[0;34m=\u001b[0m \u001b[0minner\u001b[0m\u001b[0;34m.\u001b[0m\u001b[0m__doc__\u001b[0m\u001b[0;34m\u001b[0m\u001b[0m\n\u001b[1;32m   1821\u001b[0m         \u001b[0;32mif\u001b[0m \u001b[0mpre_doc\u001b[0m \u001b[0;32mis\u001b[0m \u001b[0mNone\u001b[0m\u001b[0;34m:\u001b[0m\u001b[0;34m\u001b[0m\u001b[0m\n",
      "\u001b[0;32m/usr/local/lib/python2.7/dist-packages/matplotlib/axes/_axes.pyc\u001b[0m in \u001b[0;36mhist\u001b[0;34m(self, x, bins, range, normed, weights, cumulative, bottom, histtype, align, orientation, rwidth, log, color, label, stacked, **kwargs)\u001b[0m\n\u001b[1;32m   5933\u001b[0m             \u001b[0mx\u001b[0m \u001b[0;34m=\u001b[0m \u001b[0mnp\u001b[0m\u001b[0;34m.\u001b[0m\u001b[0marray\u001b[0m\u001b[0;34m(\u001b[0m\u001b[0;34m[\u001b[0m\u001b[0;34m[\u001b[0m\u001b[0;34m]\u001b[0m\u001b[0;34m]\u001b[0m\u001b[0;34m)\u001b[0m\u001b[0;34m\u001b[0m\u001b[0m\n\u001b[1;32m   5934\u001b[0m         \u001b[0;32melse\u001b[0m\u001b[0;34m:\u001b[0m\u001b[0;34m\u001b[0m\u001b[0m\n\u001b[0;32m-> 5935\u001b[0;31m             \u001b[0mx\u001b[0m \u001b[0;34m=\u001b[0m \u001b[0m_normalize_input\u001b[0m\u001b[0;34m(\u001b[0m\u001b[0mx\u001b[0m\u001b[0;34m,\u001b[0m \u001b[0;34m'x'\u001b[0m\u001b[0;34m)\u001b[0m\u001b[0;34m\u001b[0m\u001b[0m\n\u001b[0m\u001b[1;32m   5936\u001b[0m         \u001b[0mnx\u001b[0m \u001b[0;34m=\u001b[0m \u001b[0mlen\u001b[0m\u001b[0;34m(\u001b[0m\u001b[0mx\u001b[0m\u001b[0;34m)\u001b[0m  \u001b[0;31m# number of datasets\u001b[0m\u001b[0;34m\u001b[0m\u001b[0m\n\u001b[1;32m   5937\u001b[0m \u001b[0;34m\u001b[0m\u001b[0m\n",
      "\u001b[0;32m/usr/local/lib/python2.7/dist-packages/matplotlib/axes/_axes.pyc\u001b[0m in \u001b[0;36m_normalize_input\u001b[0;34m(inp, ename)\u001b[0m\n\u001b[1;32m   5864\u001b[0m             \"\"\"\n\u001b[1;32m   5865\u001b[0m             if (isinstance(x, np.ndarray) or\n\u001b[0;32m-> 5866\u001b[0;31m                     not iterable(cbook.safe_first_element(inp))):\n\u001b[0m\u001b[1;32m   5867\u001b[0m                 \u001b[0;31m# TODO: support masked arrays;\u001b[0m\u001b[0;34m\u001b[0m\u001b[0;34m\u001b[0m\u001b[0m\n\u001b[1;32m   5868\u001b[0m                 \u001b[0minp\u001b[0m \u001b[0;34m=\u001b[0m \u001b[0mnp\u001b[0m\u001b[0;34m.\u001b[0m\u001b[0masarray\u001b[0m\u001b[0;34m(\u001b[0m\u001b[0minp\u001b[0m\u001b[0;34m)\u001b[0m\u001b[0;34m\u001b[0m\u001b[0m\n",
      "\u001b[0;32m/usr/local/lib/python2.7/dist-packages/matplotlib/cbook.pyc\u001b[0m in \u001b[0;36msafe_first_element\u001b[0;34m(obj)\u001b[0m\n\u001b[1;32m   2560\u001b[0m         raise RuntimeError(\"matplotlib does not support generators \"\n\u001b[1;32m   2561\u001b[0m                            \"as input\")\n\u001b[0;32m-> 2562\u001b[0;31m     \u001b[0;32mreturn\u001b[0m \u001b[0mnext\u001b[0m\u001b[0;34m(\u001b[0m\u001b[0miter\u001b[0m\u001b[0;34m(\u001b[0m\u001b[0mobj\u001b[0m\u001b[0;34m)\u001b[0m\u001b[0;34m)\u001b[0m\u001b[0;34m\u001b[0m\u001b[0m\n\u001b[0m\u001b[1;32m   2563\u001b[0m \u001b[0;34m\u001b[0m\u001b[0m\n\u001b[1;32m   2564\u001b[0m \u001b[0;34m\u001b[0m\u001b[0m\n",
      "\u001b[0;31mTypeError\u001b[0m: 'function' object is not iterable"
     ]
    },
    {
     "data": {
      "image/png": "[encoded data removed]",
      "text/plain": [
       "<matplotlib.figure.Figure at 0x7f91b47d7590>"
      ]
     },
     "metadata": {},
     "output_type": "display_data"
    }
   ],
   "source": [
    "histRelDif(rDif)"
   ]
  },
  {
   "cell_type": "code",
   "execution_count": null,
   "metadata": {
    "collapsed": true
   },
   "outputs": [],
   "source": [
    "# next plot: relative energy difference against target energy"
   ]
  },
  {
   "cell_type": "code",
   "execution_count": null,
   "metadata": {
    "collapsed": true
   },
   "outputs": [],
   "source": [
    "# This function plots the relative energy difference against the target energy.\n",
    "def plotRelXTarget(target, relative):\n",
    "    plt.figure(figsize=(5,5))\n",
    "    plt.xlabel(\"Target energy (GeV)\")\n",
    "    plt.ylabel(\"Relative energy difference (%)\")\n",
    "    plt.title(\"Comparing the relative energy difference with the target energy of the particle\")\n",
    "    \n",
    "    plt.scatter(target, relative, color='g', alpha = 0.5)\n",
    "    \n",
    "    plt.xlim(0, 500)\n",
    "    plt.legend()\n",
    "    plt.show()"
   ]
  },
  {
   "cell_type": "code",
   "execution_count": null,
   "metadata": {
    "collapsed": true
   },
   "outputs": [],
   "source": [
    "plotRelXTarget(ty2, rDif)"
   ]
  },
  {
   "cell_type": "markdown",
   "metadata": {},
   "source": [
    "Using Danny's input handler to grab all the data from the test set and do the same plots:"
   ]
  },
  {
   "cell_type": "code",
   "execution_count": null,
   "metadata": {
    "collapsed": true
   },
   "outputs": [],
   "source": [
    "testDir = '/home/vitoriabp/CaloImage_2017/GammaEscan/test' # test directory where you get the targets from\n",
    "mod = '/home/vitoriabp/CaloImage_2017/regression_1.json' # model file\n",
    "w = '/home/vitoriabp/CaloImage_2017/regression_1.h5' # weight file\n",
    "\n",
    "from CMS_Deep_Learning.io import simple_grab\n",
    "\n",
    "# y is the target\n",
    "y,  = simple_grab(['Y'], data = testDir, label_keys='target')\n",
    "pred, = simple_grab(['predictions'], data = testDir, label_keys='target', input_keys=['ECAL', 'HCAL'], model = mod, weights = w)\n",
    "\n",
    "\n",
    "y = y[:, 1:]\n",
    "#print(y.shape)\n",
    "#print y\n",
    "#print pred.shape"
   ]
  },
  {
   "cell_type": "code",
   "execution_count": null,
   "metadata": {
    "collapsed": true
   },
   "outputs": [],
   "source": [
    "plotPredictedXTarget(y, pred)"
   ]
  },
  {
   "cell_type": "code",
   "execution_count": null,
   "metadata": {
    "collapsed": true
   },
   "outputs": [],
   "source": [
    "histEDif(dif(y, pred))"
   ]
  },
  {
   "cell_type": "code",
   "execution_count": null,
   "metadata": {
    "collapsed": true
   },
   "outputs": [],
   "source": [
    "histRelDif(rDif(y, pred))"
   ]
  },
  {
   "cell_type": "code",
   "execution_count": null,
   "metadata": {
    "collapsed": true
   },
   "outputs": [],
   "source": [
    "plotRelXTarget(y, rDif(y, pred))"
   ]
  },
  {
   "cell_type": "markdown",
   "metadata": {},
   "source": [
    "As there is so much data for such a big energy range, we can divide the data into bins containing a smaller energy range, in order to further understand the distributions."
   ]
  },
  {
   "cell_type": "code",
   "execution_count": null,
   "metadata": {
    "collapsed": true
   },
   "outputs": [],
   "source": [
    "bin1 = y[0, 100]\n",
    "#bin2 = y[101, 200]\n",
    "#bin3 = y[201, 300]\n",
    "#bin4 = y[301, 400]\n",
    "#bin5 = y[401, 500]"
   ]
  },
  {
   "cell_type": "code",
   "execution_count": null,
   "metadata": {
    "collapsed": true
   },
   "outputs": [],
   "source": []
  }
 ],
 "metadata": {
  "kernelspec": {
   "display_name": "Python 2",
   "language": "python",
   "name": "python2"
  },
  "language_info": {
   "codemirror_mode": {
    "name": "ipython",
    "version": 2
   },
   "file_extension": ".py",
   "mimetype": "text/x-python",
   "name": "python",
   "nbconvert_exporter": "python",
   "pygments_lexer": "ipython2",
   "version": "2.7.12"
  }
 },
 "nbformat": 4,
 "nbformat_minor": 2
}
