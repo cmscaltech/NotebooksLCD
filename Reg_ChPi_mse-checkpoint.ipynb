{
 "cells": [
  {
   "cell_type": "markdown",
   "metadata": {},
   "source": [
    "# Does not work"
   ]
  },
  {
   "cell_type": "markdown",
   "metadata": {},
   "source": [
    "Tried to train the network by giving it ECAL, HCAL and the sum over HCAL as inputs, but that didn't work (output normalized energies)."
   ]
  },
  {
   "cell_type": "code",
   "execution_count": 1,
   "metadata": {},
   "outputs": [
    {
     "name": "stderr",
     "output_type": "stream",
     "text": [
      "Using TensorFlow backend.\n"
     ]
    }
   ],
   "source": [
    "import os\n",
    "#import numpy as np\n",
    "import sys\n",
    "import glob\n",
    "import re\n",
    "import h5py\n",
    "#os.environ['KERAS_BACKEND'] = 'theano'\n",
    "os.environ['KERAS_BACKEND'] = 'tensorflow'\n",
    "os.environ['CUDA_VISIBLE_DEVICES'] = '4'\n",
    "#from keras.models import Sequential, Model, model_from_json\n",
    "#from keras.layers import Dense, Activation, Input, Dense, Dropout, merge, Reshape, Convolution3D, MaxPooling3D, Flatten\n",
    "from keras.callbacks import EarlyStopping, ModelCheckpoint\n",
    "%matplotlib inline"
   ]
  },
  {
   "cell_type": "code",
   "execution_count": 2,
   "metadata": {
    "collapsed": true
   },
   "outputs": [],
   "source": [
    "# Assume that you have 12GB of GPU memory and want to allocate ~4GB:\n",
    "import tensorflow as tf\n",
    "gpu_options = tf.GPUOptions(per_process_gpu_memory_fraction=0.333)\n",
    "\n",
    "sess = tf.Session(config=tf.ConfigProto(gpu_options=gpu_options))"
   ]
  },
  {
   "cell_type": "code",
   "execution_count": 3,
   "metadata": {},
   "outputs": [
    {
     "data": {
      "text/plain": [
       "'/home/vitoriabp/CaloImage_2017'"
      ]
     },
     "execution_count": 3,
     "metadata": {},
     "output_type": "execute_result"
    }
   ],
   "source": [
    "os.getcwd()"
   ]
  },
  {
   "cell_type": "code",
   "execution_count": 3,
   "metadata": {
    "collapsed": true
   },
   "outputs": [],
   "source": [
    "if __package__ is None:\n",
    "    sys.path.append(os.path.realpath(\"/home/vitoriabp/RegressionLCD/\"))\n",
    "    \n",
    "from model import *\n",
    "from preprocessing import *\n",
    "from plots import *"
   ]
  },
  {
   "cell_type": "code",
   "execution_count": 5,
   "metadata": {},
   "outputs": [
    {
     "name": "stdout",
     "output_type": "stream",
     "text": [
      "None\n"
     ]
    }
   ],
   "source": [
    "print __package__"
   ]
  },
  {
   "cell_type": "code",
   "execution_count": 4,
   "metadata": {
    "collapsed": true
   },
   "outputs": [],
   "source": [
    "if __package__ is None:\n",
    "    sys.path.append(os.path.realpath(\"/data/shared/Software/CMS_Deep_Learning\"))\n",
    "    \n",
    "from CMS_Deep_Learning.io import gen_from_data, retrieve_data\n",
    "from CMS_Deep_Learning.postprocessing.metrics import distribute_to_bins"
   ]
  },
  {
   "cell_type": "markdown",
   "metadata": {},
   "source": [
    "# Defining model"
   ]
  },
  {
   "cell_type": "code",
   "execution_count": 163,
   "metadata": {
    "collapsed": true
   },
   "outputs": [],
   "source": [
    "def modelSum(loss='mse', name=\"regression\"):\n",
    "    '''\n",
    "    Defines regression model.\n",
    "    :param loss: Keras' loss function to be used. Recommended: mse, mean_absolute_error,\n",
    "     mean_squared_logarithmic_error, mean_absolute_percentage_error.\n",
    "    :param name: (String) name to save the file as.\n",
    "    :return: model.\n",
    "    '''\n",
    "    # ECAL input\n",
    "    input1 = Input(shape=(25, 25, 25))\n",
    "    r = Reshape((25, 25, 25, 1))(input1)\n",
    "    model1 = Convolution3D(3, 4, 4, 4, activation='relu')(r)\n",
    "    model1 = MaxPooling3D()(model1)\n",
    "    model1 = Flatten()(model1)\n",
    "\n",
    "    # HCAL input\n",
    "    input2 = Input(shape=(5, 5, 60))\n",
    "    r = Reshape((5, 5, 60, 1))(input2)\n",
    "    model2 = Convolution3D(10, 2, 2, 2, activation='relu')(r)\n",
    "    model2 = MaxPooling3D()(model2)\n",
    "    model2 = Flatten()(model2)\n",
    "    \n",
    "    # HCAL sum\n",
    "    model3 = Input(shape=(1,))\n",
    "    #r = Reshape((1, 1))(input3)\n",
    "    #model3 = Flatten()(r)\n",
    "    \n",
    "    # join the three input models\n",
    "    bmodel = merge([model1, model2, model3], mode='concat')\n",
    "\n",
    "    # fully connected ending\n",
    "    bmodel = (Dense(1000, activation='relu'))(bmodel)\n",
    "    bmodel = (Dropout(0.5))(bmodel)\n",
    "\n",
    "    oe = Dense(1, activation='linear', name='energy')(bmodel)  # output energy regression\n",
    "\n",
    "    # energy regression model\n",
    "    model = Model(input=[input1, input2, input3], output=oe)\n",
    "    model.compile(loss=loss, optimizer='adam')\n",
    "    model.summary()\n",
    "    saveModel(model, name=name)\n",
    "    \n",
    "    return model"
   ]
  },
  {
   "cell_type": "code",
   "execution_count": 164,
   "metadata": {
    "scrolled": true
   },
   "outputs": [
    {
     "name": "stdout",
     "output_type": "stream",
     "text": [
      "____________________________________________________________________________________________________\n",
      "Layer (type)                     Output Shape          Param #     Connected to                     \n",
      "====================================================================================================\n",
      "input_33 (InputLayer)            (None, 25, 25, 25)    0                                            \n",
      "____________________________________________________________________________________________________\n",
      "input_34 (InputLayer)            (None, 5, 5, 60)      0                                            \n",
      "____________________________________________________________________________________________________\n",
      "reshape_31 (Reshape)             (None, 25, 25, 25, 1) 0           input_33[0][0]                   \n",
      "____________________________________________________________________________________________________\n",
      "reshape_32 (Reshape)             (None, 5, 5, 60, 1)   0           input_34[0][0]                   \n",
      "____________________________________________________________________________________________________\n",
      "convolution3d_23 (Convolution3D) (None, 22, 22, 22, 3) 195         reshape_31[0][0]                 \n",
      "____________________________________________________________________________________________________\n",
      "convolution3d_24 (Convolution3D) (None, 4, 4, 59, 10)  90          reshape_32[0][0]                 \n",
      "____________________________________________________________________________________________________\n",
      "maxpooling3d_23 (MaxPooling3D)   (None, 11, 11, 11, 3) 0           convolution3d_23[0][0]           \n",
      "____________________________________________________________________________________________________\n",
      "maxpooling3d_24 (MaxPooling3D)   (None, 2, 2, 29, 10)  0           convolution3d_24[0][0]           \n",
      "____________________________________________________________________________________________________\n",
      "flatten_31 (Flatten)             (None, 3993)          0           maxpooling3d_23[0][0]            \n",
      "____________________________________________________________________________________________________\n",
      "flatten_32 (Flatten)             (None, 1160)          0           maxpooling3d_24[0][0]            \n",
      "____________________________________________________________________________________________________\n",
      "input_35 (InputLayer)            (None, 1)             0                                            \n",
      "____________________________________________________________________________________________________\n",
      "merge_8 (Merge)                  (None, 5154)          0           flatten_31[0][0]                 \n",
      "                                                                   flatten_32[0][0]                 \n",
      "                                                                   input_35[0][0]                   \n",
      "____________________________________________________________________________________________________\n",
      "dense_8 (Dense)                  (None, 1000)          5155000     merge_8[0][0]                    \n",
      "____________________________________________________________________________________________________\n",
      "dropout_8 (Dropout)              (None, 1000)          0           dense_8[0][0]                    \n",
      "____________________________________________________________________________________________________\n",
      "energy (Dense)                   (None, 1)             1001        dropout_8[0][0]                  \n",
      "====================================================================================================\n",
      "Total params: 5,156,286\n",
      "Trainable params: 5,156,286\n",
      "Non-trainable params: 0\n",
      "____________________________________________________________________________________________________\n",
      "____________________________________________________________________________________________________\n",
      "Layer (type)                     Output Shape          Param #     Connected to                     \n",
      "====================================================================================================\n",
      "input_33 (InputLayer)            (None, 25, 25, 25)    0                                            \n",
      "____________________________________________________________________________________________________\n",
      "input_34 (InputLayer)            (None, 5, 5, 60)      0                                            \n",
      "____________________________________________________________________________________________________\n",
      "reshape_31 (Reshape)             (None, 25, 25, 25, 1) 0           input_33[0][0]                   \n",
      "____________________________________________________________________________________________________\n",
      "reshape_32 (Reshape)             (None, 5, 5, 60, 1)   0           input_34[0][0]                   \n",
      "____________________________________________________________________________________________________\n",
      "convolution3d_23 (Convolution3D) (None, 22, 22, 22, 3) 195         reshape_31[0][0]                 \n",
      "____________________________________________________________________________________________________\n",
      "convolution3d_24 (Convolution3D) (None, 4, 4, 59, 10)  90          reshape_32[0][0]                 \n",
      "____________________________________________________________________________________________________\n",
      "maxpooling3d_23 (MaxPooling3D)   (None, 11, 11, 11, 3) 0           convolution3d_23[0][0]           \n",
      "____________________________________________________________________________________________________\n",
      "maxpooling3d_24 (MaxPooling3D)   (None, 2, 2, 29, 10)  0           convolution3d_24[0][0]           \n",
      "____________________________________________________________________________________________________\n",
      "flatten_31 (Flatten)             (None, 3993)          0           maxpooling3d_23[0][0]            \n",
      "____________________________________________________________________________________________________\n",
      "flatten_32 (Flatten)             (None, 1160)          0           maxpooling3d_24[0][0]            \n",
      "____________________________________________________________________________________________________\n",
      "input_35 (InputLayer)            (None, 1)             0                                            \n",
      "____________________________________________________________________________________________________\n",
      "merge_8 (Merge)                  (None, 5154)          0           flatten_31[0][0]                 \n",
      "                                                                   flatten_32[0][0]                 \n",
      "                                                                   input_35[0][0]                   \n",
      "____________________________________________________________________________________________________\n",
      "dense_8 (Dense)                  (None, 1000)          5155000     merge_8[0][0]                    \n",
      "____________________________________________________________________________________________________\n",
      "dropout_8 (Dropout)              (None, 1000)          0           dense_8[0][0]                    \n",
      "____________________________________________________________________________________________________\n",
      "energy (Dense)                   (None, 1)             1001        dropout_8[0][0]                  \n",
      "====================================================================================================\n",
      "Total params: 5,156,286\n",
      "Trainable params: 5,156,286\n",
      "Non-trainable params: 0\n",
      "____________________________________________________________________________________________________\n"
     ]
    }
   ],
   "source": [
    "chPi_try = modelSum(loss='mse', name=\"chPi_try\")"
   ]
  },
  {
   "cell_type": "code",
   "execution_count": 80,
   "metadata": {},
   "outputs": [
    {
     "name": "stdout",
     "output_type": "stream",
     "text": [
      "Loaded model from disk\n"
     ]
    }
   ],
   "source": [
    "chPi_try = loadModel(\"chPi_try\")"
   ]
  },
  {
   "cell_type": "code",
   "execution_count": 81,
   "metadata": {
    "collapsed": true
   },
   "outputs": [],
   "source": [
    "chPi_try.compile(loss='mse', optimizer='adam')"
   ]
  },
  {
   "cell_type": "markdown",
   "metadata": {},
   "source": [
    "# Generator"
   ]
  },
  {
   "cell_type": "code",
   "execution_count": 9,
   "metadata": {
    "collapsed": true
   },
   "outputs": [],
   "source": [
    "# Defining the directories, which contain the splitted data\n",
    "\n",
    "train_dir = \"/bigdata/shared/LCD/V1/ChPiEscan/train\"\n",
    "valid_dir = \"/bigdata/shared/LCD/V1/ChPiEscan/valid\"\n",
    "test_dir = \"/bigdata/shared/LCD/V1/ChPiEscan/test\""
   ]
  },
  {
   "cell_type": "code",
   "execution_count": 240,
   "metadata": {
    "collapsed": true
   },
   "outputs": [],
   "source": [
    "## Danny's generator\n",
    "\n",
    "# training set:\n",
    "train = gen_from_data(train_dir, batch_size=500, data_keys=[[\"ECAL\", \"HCAL\"], \"target\"], prep_func=reshapeData)\n",
    "\n",
    "# validation set:\n",
    "val = gen_from_data(valid_dir, batch_size=500, data_keys=[[\"ECAL\", \"HCAL\"], \"target\"], prep_func=reshapeData)\n",
    "\n",
    "# testing set:\n",
    "test = gen_from_data(test_dir, batch_size=500, data_keys=[[\"ECAL\", \"HCAL\"], \"target\"], prep_func=reshapeData)"
   ]
  },
  {
   "cell_type": "code",
   "execution_count": 11,
   "metadata": {},
   "outputs": [
    {
     "name": "stdout",
     "output_type": "stream",
     "text": [
      "(500, 25, 25, 25)\n",
      "(500, 5, 5, 60)\n",
      "(500, 1)\n"
     ]
    }
   ],
   "source": [
    "# load training data to check\n",
    "(xe, xh), yt = next(train)\n",
    "#xe = ecal input (stands for \"x, ecal\")\n",
    "#xh = hcal input (stands for \"y, hcal\")\n",
    "#yt = energy target (stands for \"y, target\")\n",
    "\n",
    "print(xe.shape)\n",
    "print(xh.shape)\n",
    "print(yt.shape)"
   ]
  },
  {
   "cell_type": "markdown",
   "metadata": {},
   "source": [
    "# Model training"
   ]
  },
  {
   "cell_type": "code",
   "execution_count": 14,
   "metadata": {},
   "outputs": [
    {
     "name": "stdout",
     "output_type": "stream",
     "text": [
      "2000\n"
     ]
    }
   ],
   "source": [
    "from CMS_Deep_Learning.io import nb_samples_from_h5\n",
    "\n",
    "print nb_samples_from_h5(\"/bigdata/shared/LCD/V1/ChPiEscan/train/ChPiEscan_1_1.h5\")"
   ]
  },
  {
   "cell_type": "code",
   "execution_count": 86,
   "metadata": {
    "collapsed": true
   },
   "outputs": [],
   "source": [
    "def nSamples(directory):\n",
    "    '''\n",
    "    Return number of samples in the directory.\n",
    "    :param directory: path to directory that contains the HDF5 files\n",
    "    :type directory: str\n",
    "    :return: number of samples\n",
    "    :rtype: int\n",
    "    '''\n",
    "    import sys\n",
    "    if __package__ is None:\n",
    "        sys.path.append(os.path.realpath(\"/data/shared/Software/CMS_Deep_Learning\"))\n",
    "    from CMS_Deep_Learning.io import nb_samples_from_h5\n",
    "\n",
    "    samples = 0\n",
    "    for f in os.listdir(directory):\n",
    "        samples += nb_samples_from_h5(directory+f)\n",
    "\n",
    "    return samples"
   ]
  },
  {
   "cell_type": "code",
   "execution_count": 87,
   "metadata": {},
   "outputs": [
    {
     "name": "stdout",
     "output_type": "stream",
     "text": [
      "299999\n"
     ]
    }
   ],
   "source": [
    "tr_samples = nSamples(\"/bigdata/shared/LCD/V1/ChPiEscan/train/\")\n",
    "\n",
    "print tr_samples\n",
    "\n",
    "val_samples = nSamples(\"/bigdata/shared/LCD/V1/ChPiEscan/valid/\")\n",
    "\n",
    "print val_samples"
   ]
  },
  {
   "cell_type": "code",
   "execution_count": null,
   "metadata": {
    "collapsed": true
   },
   "outputs": [],
   "source": [
    "def gen_prep(inp):\n",
    "    (xe, xh), y = inp\n",
    "    energy = [y[:, 1:]]\n",
    "    #return (xe, xh), energy\n",
    "    s_ecal = np.array([np.sum(xe)])\n",
    "    s_hcal = np.array([np.sum(xh)])\n",
    "    return (s_ecal, s_hcal),energy"
   ]
  },
  {
   "cell_type": "code",
   "execution_count": 228,
   "metadata": {},
   "outputs": [
    {
     "ename": "StopIteration",
     "evalue": "",
     "output_type": "error",
     "traceback": [
      "\u001b[0;31m---------------------------------------------------------------------------\u001b[0m",
      "\u001b[0;31mStopIteration\u001b[0m                             Traceback (most recent call last)",
      "\u001b[0;32m<ipython-input-228-995bc9207184>\u001b[0m in \u001b[0;36m<module>\u001b[0;34m()\u001b[0m\n\u001b[1;32m     21\u001b[0m \u001b[0;34m\u001b[0m\u001b[0m\n\u001b[1;32m     22\u001b[0m \u001b[0;32mfrom\u001b[0m \u001b[0mCMS_Deep_Learning\u001b[0m\u001b[0;34m.\u001b[0m\u001b[0mio\u001b[0m \u001b[0;32mimport\u001b[0m \u001b[0mrepr_structure\u001b[0m\u001b[0;34m\u001b[0m\u001b[0m\n\u001b[0;32m---> 23\u001b[0;31m \u001b[0;32mprint\u001b[0m\u001b[0;34m(\u001b[0m\u001b[0mrepr_structure\u001b[0m\u001b[0;34m(\u001b[0m\u001b[0mnext\u001b[0m\u001b[0;34m(\u001b[0m\u001b[0mtest_stuff\u001b[0m\u001b[0;34m)\u001b[0m\u001b[0;34m)\u001b[0m\u001b[0;34m)\u001b[0m\u001b[0;34m\u001b[0m\u001b[0m\n\u001b[0m",
      "\u001b[0;32m<ipython-input-220-ef10271a18a2>\u001b[0m in \u001b[0;36mgenSum\u001b[0;34m(generator)\u001b[0m\n\u001b[1;32m      8\u001b[0m \u001b[0;34m\u001b[0m\u001b[0m\n\u001b[1;32m      9\u001b[0m     \u001b[0;32mwhile\u001b[0m \u001b[0mTrue\u001b[0m\u001b[0;34m:\u001b[0m\u001b[0;34m\u001b[0m\u001b[0m\n\u001b[0;32m---> 10\u001b[0;31m         \u001b[0;34m(\u001b[0m\u001b[0mecal\u001b[0m\u001b[0;34m,\u001b[0m \u001b[0mhcal\u001b[0m\u001b[0;34m)\u001b[0m\u001b[0;34m,\u001b[0m \u001b[0mtrue\u001b[0m \u001b[0;34m=\u001b[0m \u001b[0mnext\u001b[0m\u001b[0;34m(\u001b[0m\u001b[0mgenerator\u001b[0m\u001b[0;34m)\u001b[0m\u001b[0;34m\u001b[0m\u001b[0m\n\u001b[0m\u001b[1;32m     11\u001b[0m         \u001b[0ms_hcal\u001b[0m \u001b[0;34m=\u001b[0m \u001b[0mnp\u001b[0m\u001b[0;34m.\u001b[0m\u001b[0msum\u001b[0m\u001b[0;34m(\u001b[0m\u001b[0mnp\u001b[0m\u001b[0;34m.\u001b[0m\u001b[0msum\u001b[0m\u001b[0;34m(\u001b[0m\u001b[0mnp\u001b[0m\u001b[0;34m.\u001b[0m\u001b[0msum\u001b[0m\u001b[0;34m(\u001b[0m\u001b[0mhcal\u001b[0m\u001b[0;34m,\u001b[0m \u001b[0maxis\u001b[0m\u001b[0;34m=\u001b[0m\u001b[0;34m-\u001b[0m\u001b[0;36m1\u001b[0m\u001b[0;34m)\u001b[0m\u001b[0;34m,\u001b[0m \u001b[0maxis\u001b[0m\u001b[0;34m=\u001b[0m\u001b[0;34m-\u001b[0m\u001b[0;36m1\u001b[0m\u001b[0;34m)\u001b[0m\u001b[0;34m,\u001b[0m \u001b[0maxis\u001b[0m\u001b[0;34m=\u001b[0m\u001b[0;34m-\u001b[0m\u001b[0;36m1\u001b[0m\u001b[0;34m,\u001b[0m \u001b[0mkeepdims\u001b[0m\u001b[0;34m=\u001b[0m\u001b[0mTrue\u001b[0m\u001b[0;34m)\u001b[0m\u001b[0;34m\u001b[0m\u001b[0m\n\u001b[1;32m     12\u001b[0m         \u001b[0;32myield\u001b[0m \u001b[0;34m[\u001b[0m\u001b[0mecal\u001b[0m\u001b[0;34m,\u001b[0m \u001b[0mhcal\u001b[0m\u001b[0;34m,\u001b[0m \u001b[0ms_hcal\u001b[0m\u001b[0;34m]\u001b[0m\u001b[0;34m,\u001b[0m \u001b[0mtrue\u001b[0m\u001b[0;34m\u001b[0m\u001b[0m\n",
      "\u001b[0;31mStopIteration\u001b[0m: "
     ]
    }
   ],
   "source": [
    "def _genSum(generator):\n",
    "    #s = lambda x: np.sum(np.sum(np.sum(x,axis=-1),axis=-1),axis=-1)\n",
    "    s = lambda x: np.sum(np.sum(np.sum(x, axis=-1), axis=-1), axis=-1, keepdims=True)\n",
    "    \n",
    "    (ecal, hcal), true = next(generator)\n",
    "    \n",
    "    #s_hcal = 0\n",
    "    \n",
    "    while True:\n",
    "        #s_ecal = s(ecal)\n",
    "        s_hcal = s(hcal)\n",
    "        #print ecal\n",
    "        #print hcal\n",
    "        #sums = np.array([s_ecal, s_hcal])\n",
    "        #reshaped = sums.reshape(500,2)\n",
    "        #print reshaped.shape\n",
    "        #print reshaped\n",
    "        yield [ecal, hcal, s_hcal], true\n",
    "        \n",
    "test_stuff = genSum(train)\n",
    "\n",
    "from CMS_Deep_Learning.io import repr_structure\n",
    "print(repr_structure(next(test_stuff)))"
   ]
  },
  {
   "cell_type": "code",
   "execution_count": 232,
   "metadata": {},
   "outputs": [
    {
     "name": "stdout",
     "output_type": "stream",
     "text": [
      "([<(500, 25, 25, 25)>,<(500, 5, 5, 60)>,<(500, 1)>],<(500, 1)>)\n"
     ]
    }
   ],
   "source": [
    "def genSum(generator):\n",
    "    while True:\n",
    "        (ecal, hcal), true = next(generator)\n",
    "        s_hcal = np.sum(np.sum(np.sum(hcal, axis=-1), axis=-1), axis=-1, keepdims=True)\n",
    "        yield [ecal, hcal, s_hcal], true\n",
    "        \n",
    "test_stuff = genSum(train)\n",
    "\n",
    "from CMS_Deep_Learning.io import repr_structure\n",
    "print(repr_structure(next(test_stuff)))"
   ]
  },
  {
   "cell_type": "code",
   "execution_count": 233,
   "metadata": {
    "collapsed": true
   },
   "outputs": [],
   "source": [
    "genS = genSum(train)\n",
    "genS_Val = genSum(val)"
   ]
  },
  {
   "cell_type": "code",
   "execution_count": 227,
   "metadata": {},
   "outputs": [
    {
     "name": "stdout",
     "output_type": "stream",
     "text": [
      "([<(500, 25, 25, 25)>,<(500, 5, 5, 60)>,<(500, 1)>],<(500, 1)>)\n"
     ]
    },
    {
     "ename": "KeyboardInterrupt",
     "evalue": "",
     "output_type": "error",
     "traceback": [
      "\u001b[0;31m---------------------------------------------------------------------------\u001b[0m",
      "\u001b[0;31mKeyboardInterrupt\u001b[0m                         Traceback (most recent call last)",
      "\u001b[0;32m<ipython-input-227-b1339c238bc2>\u001b[0m in \u001b[0;36m<module>\u001b[0;34m()\u001b[0m\n\u001b[1;32m      1\u001b[0m \u001b[0;32mprint\u001b[0m\u001b[0;34m(\u001b[0m\u001b[0mrepr_structure\u001b[0m\u001b[0;34m(\u001b[0m\u001b[0mnext\u001b[0m\u001b[0;34m(\u001b[0m\u001b[0mgenS\u001b[0m\u001b[0;34m)\u001b[0m\u001b[0;34m)\u001b[0m\u001b[0;34m)\u001b[0m\u001b[0;34m\u001b[0m\u001b[0m\n\u001b[1;32m      2\u001b[0m \u001b[0;32mfor\u001b[0m \u001b[0mi\u001b[0m \u001b[0;32min\u001b[0m \u001b[0mrange\u001b[0m\u001b[0;34m(\u001b[0m\u001b[0mtr_samples\u001b[0m\u001b[0;34m/\u001b[0m\u001b[0;36m100\u001b[0m\u001b[0;34m)\u001b[0m\u001b[0;34m:\u001b[0m\u001b[0;34m\u001b[0m\u001b[0m\n\u001b[0;32m----> 3\u001b[0;31m     \u001b[0mx\u001b[0m \u001b[0;34m=\u001b[0m \u001b[0mnext\u001b[0m\u001b[0;34m(\u001b[0m\u001b[0mgenS\u001b[0m\u001b[0;34m)\u001b[0m\u001b[0;34m\u001b[0m\u001b[0m\n\u001b[0m\u001b[1;32m      4\u001b[0m     \u001b[0;32mif\u001b[0m\u001b[0;34m(\u001b[0m\u001b[0mlen\u001b[0m\u001b[0;34m(\u001b[0m\u001b[0mx\u001b[0m\u001b[0;34m[\u001b[0m\u001b[0;36m0\u001b[0m\u001b[0;34m]\u001b[0m\u001b[0;34m)\u001b[0m \u001b[0;34m==\u001b[0m \u001b[0;36m2\u001b[0m\u001b[0;34m)\u001b[0m\u001b[0;34m:\u001b[0m\u001b[0;34m\u001b[0m\u001b[0m\n\u001b[1;32m      5\u001b[0m         \u001b[0;32mprint\u001b[0m\u001b[0;34m(\u001b[0m\u001b[0mrepr_structure\u001b[0m\u001b[0;34m(\u001b[0m\u001b[0mx\u001b[0m\u001b[0;34m)\u001b[0m\u001b[0;34m)\u001b[0m\u001b[0;34m\u001b[0m\u001b[0m\n",
      "\u001b[0;32m<ipython-input-220-ef10271a18a2>\u001b[0m in \u001b[0;36mgenSum\u001b[0;34m(generator)\u001b[0m\n\u001b[1;32m      8\u001b[0m \u001b[0;34m\u001b[0m\u001b[0m\n\u001b[1;32m      9\u001b[0m     \u001b[0;32mwhile\u001b[0m \u001b[0mTrue\u001b[0m\u001b[0;34m:\u001b[0m\u001b[0;34m\u001b[0m\u001b[0m\n\u001b[0;32m---> 10\u001b[0;31m         \u001b[0;34m(\u001b[0m\u001b[0mecal\u001b[0m\u001b[0;34m,\u001b[0m \u001b[0mhcal\u001b[0m\u001b[0;34m)\u001b[0m\u001b[0;34m,\u001b[0m \u001b[0mtrue\u001b[0m \u001b[0;34m=\u001b[0m \u001b[0mnext\u001b[0m\u001b[0;34m(\u001b[0m\u001b[0mgenerator\u001b[0m\u001b[0;34m)\u001b[0m\u001b[0;34m\u001b[0m\u001b[0m\n\u001b[0m\u001b[1;32m     11\u001b[0m         \u001b[0ms_hcal\u001b[0m \u001b[0;34m=\u001b[0m \u001b[0mnp\u001b[0m\u001b[0;34m.\u001b[0m\u001b[0msum\u001b[0m\u001b[0;34m(\u001b[0m\u001b[0mnp\u001b[0m\u001b[0;34m.\u001b[0m\u001b[0msum\u001b[0m\u001b[0;34m(\u001b[0m\u001b[0mnp\u001b[0m\u001b[0;34m.\u001b[0m\u001b[0msum\u001b[0m\u001b[0;34m(\u001b[0m\u001b[0mhcal\u001b[0m\u001b[0;34m,\u001b[0m \u001b[0maxis\u001b[0m\u001b[0;34m=\u001b[0m\u001b[0;34m-\u001b[0m\u001b[0;36m1\u001b[0m\u001b[0;34m)\u001b[0m\u001b[0;34m,\u001b[0m \u001b[0maxis\u001b[0m\u001b[0;34m=\u001b[0m\u001b[0;34m-\u001b[0m\u001b[0;36m1\u001b[0m\u001b[0;34m)\u001b[0m\u001b[0;34m,\u001b[0m \u001b[0maxis\u001b[0m\u001b[0;34m=\u001b[0m\u001b[0;34m-\u001b[0m\u001b[0;36m1\u001b[0m\u001b[0;34m,\u001b[0m \u001b[0mkeepdims\u001b[0m\u001b[0;34m=\u001b[0m\u001b[0mTrue\u001b[0m\u001b[0;34m)\u001b[0m\u001b[0;34m\u001b[0m\u001b[0m\n\u001b[1;32m     12\u001b[0m         \u001b[0;32myield\u001b[0m \u001b[0;34m[\u001b[0m\u001b[0mecal\u001b[0m\u001b[0;34m,\u001b[0m \u001b[0mhcal\u001b[0m\u001b[0;34m,\u001b[0m \u001b[0ms_hcal\u001b[0m\u001b[0;34m]\u001b[0m\u001b[0;34m,\u001b[0m \u001b[0mtrue\u001b[0m\u001b[0;34m\u001b[0m\u001b[0m\n",
      "\u001b[0;32m/data/shared/Software/CMS_Deep_Learning/CMS_Deep_Learning/io.pyc\u001b[0m in \u001b[0;36mgen_from_data\u001b[0;34m(lst, batch_size, data_keys, prep_func, verbose)\u001b[0m\n\u001b[1;32m    193\u001b[0m     \u001b[0;32mwhile\u001b[0m \u001b[0mTrue\u001b[0m\u001b[0;34m:\u001b[0m\u001b[0;34m\u001b[0m\u001b[0m\n\u001b[1;32m    194\u001b[0m         \u001b[0;32mfor\u001b[0m \u001b[0mi\u001b[0m\u001b[0;34m,\u001b[0m \u001b[0melmt\u001b[0m \u001b[0;32min\u001b[0m \u001b[0menumerate\u001b[0m\u001b[0;34m(\u001b[0m\u001b[0mlst\u001b[0m\u001b[0;34m)\u001b[0m\u001b[0;34m:\u001b[0m\u001b[0;34m\u001b[0m\u001b[0m\n\u001b[0;32m--> 195\u001b[0;31m             \u001b[0mflat_out\u001b[0m \u001b[0;34m=\u001b[0m \u001b[0mflatten\u001b[0m\u001b[0;34m(\u001b[0m\u001b[0massert_list\u001b[0m\u001b[0;34m(\u001b[0m\u001b[0mretrieve_data\u001b[0m\u001b[0;34m(\u001b[0m\u001b[0melmt\u001b[0m\u001b[0;34m,\u001b[0m \u001b[0mdata_keys\u001b[0m\u001b[0;34m=\u001b[0m\u001b[0mdata_keys\u001b[0m\u001b[0;34m,\u001b[0m \u001b[0mprep_func\u001b[0m\u001b[0;34m=\u001b[0m\u001b[0mprep_func\u001b[0m\u001b[0;34m,\u001b[0m \u001b[0mverbose\u001b[0m\u001b[0;34m=\u001b[0m\u001b[0mverbose\u001b[0m\u001b[0;34m)\u001b[0m\u001b[0;34m)\u001b[0m\u001b[0;34m,\u001b[0m\u001b[0minplace\u001b[0m\u001b[0;34m=\u001b[0m\u001b[0mTrue\u001b[0m\u001b[0;34m)\u001b[0m\u001b[0;34m\u001b[0m\u001b[0m\n\u001b[0m\u001b[1;32m    196\u001b[0m             \u001b[0mtot_set\u001b[0m \u001b[0;34m=\u001b[0m \u001b[0m_size_set\u001b[0m\u001b[0;34m(\u001b[0m\u001b[0mflat_out\u001b[0m\u001b[0;34m)\u001b[0m\u001b[0;34m\u001b[0m\u001b[0m\n\u001b[1;32m    197\u001b[0m             \u001b[0;32massert\u001b[0m \u001b[0mlen\u001b[0m\u001b[0;34m(\u001b[0m\u001b[0mtot_set\u001b[0m\u001b[0;34m)\u001b[0m \u001b[0;34m==\u001b[0m \u001b[0;36m1\u001b[0m\u001b[0;34m,\u001b[0m \u001b[0;34m\"datasets (i.e Particle,Labels,HLF) to not have same number of elements\"\u001b[0m\u001b[0;34m\u001b[0m\u001b[0m\n",
      "\u001b[0;32m/data/shared/Software/CMS_Deep_Learning/CMS_Deep_Learning/io.pyc\u001b[0m in \u001b[0;36mretrieve_data\u001b[0;34m(data, data_keys, just_length, assert_list, prep_func, verbose)\u001b[0m\n\u001b[1;32m     59\u001b[0m             \u001b[0;31m# Get Recursively if keys are list\u001b[0m\u001b[0;34m\u001b[0m\u001b[0;34m\u001b[0m\u001b[0m\n\u001b[1;32m     60\u001b[0m             out = [retrieve_data(h5_file, data_keys=data_key, just_length=just_length, assert_list=False)\n\u001b[0;32m---> 61\u001b[0;31m                    for data_key in data_keys]\n\u001b[0m\u001b[1;32m     62\u001b[0m         \u001b[0;32melse\u001b[0m\u001b[0;34m:\u001b[0m\u001b[0;34m\u001b[0m\u001b[0m\n\u001b[1;32m     63\u001b[0m             \u001b[0;31m# Grab directly from the HDF5 store\u001b[0m\u001b[0;34m\u001b[0m\u001b[0;34m\u001b[0m\u001b[0m\n",
      "\u001b[0;32m/data/shared/Software/CMS_Deep_Learning/CMS_Deep_Learning/io.pyc\u001b[0m in \u001b[0;36mretrieve_data\u001b[0;34m(data, data_keys, just_length, assert_list, prep_func, verbose)\u001b[0m\n\u001b[1;32m     59\u001b[0m             \u001b[0;31m# Get Recursively if keys are list\u001b[0m\u001b[0;34m\u001b[0m\u001b[0;34m\u001b[0m\u001b[0m\n\u001b[1;32m     60\u001b[0m             out = [retrieve_data(h5_file, data_keys=data_key, just_length=just_length, assert_list=False)\n\u001b[0;32m---> 61\u001b[0;31m                    for data_key in data_keys]\n\u001b[0m\u001b[1;32m     62\u001b[0m         \u001b[0;32melse\u001b[0m\u001b[0;34m:\u001b[0m\u001b[0;34m\u001b[0m\u001b[0m\n\u001b[1;32m     63\u001b[0m             \u001b[0;31m# Grab directly from the HDF5 store\u001b[0m\u001b[0;34m\u001b[0m\u001b[0;34m\u001b[0m\u001b[0m\n",
      "\u001b[0;32m/data/shared/Software/CMS_Deep_Learning/CMS_Deep_Learning/io.pyc\u001b[0m in \u001b[0;36mretrieve_data\u001b[0;34m(data, data_keys, just_length, assert_list, prep_func, verbose)\u001b[0m\n\u001b[1;32m     71\u001b[0m                 \u001b[0mnxt\u001b[0m \u001b[0;34m=\u001b[0m \u001b[0mlen\u001b[0m\u001b[0;34m(\u001b[0m\u001b[0mdataset\u001b[0m\u001b[0;34m)\u001b[0m \u001b[0;32mif\u001b[0m \u001b[0;32mnot\u001b[0m \u001b[0misinstance\u001b[0m\u001b[0;34m(\u001b[0m\u001b[0mdataset\u001b[0m\u001b[0;34m,\u001b[0m \u001b[0mlist\u001b[0m\u001b[0;34m)\u001b[0m \u001b[0;32melse\u001b[0m \u001b[0;34m[\u001b[0m\u001b[0mlen\u001b[0m\u001b[0;34m(\u001b[0m\u001b[0mx\u001b[0m\u001b[0;34m)\u001b[0m \u001b[0;32mfor\u001b[0m \u001b[0mx\u001b[0m \u001b[0;32min\u001b[0m \u001b[0mdataset\u001b[0m\u001b[0;34m]\u001b[0m\u001b[0;34m\u001b[0m\u001b[0m\n\u001b[1;32m     72\u001b[0m             \u001b[0;32melse\u001b[0m\u001b[0;34m:\u001b[0m\u001b[0;34m\u001b[0m\u001b[0m\n\u001b[0;32m---> 73\u001b[0;31m                 \u001b[0mnxt\u001b[0m \u001b[0;34m=\u001b[0m \u001b[0mdataset\u001b[0m\u001b[0;34m[\u001b[0m\u001b[0;34m:\u001b[0m\u001b[0;34m]\u001b[0m\u001b[0;34m\u001b[0m\u001b[0m\n\u001b[0m\u001b[1;32m     74\u001b[0m             \u001b[0mnxt\u001b[0m \u001b[0;34m=\u001b[0m \u001b[0;34m[\u001b[0m\u001b[0mnxt\u001b[0m\u001b[0;34m]\u001b[0m \u001b[0;32mif\u001b[0m \u001b[0;34m(\u001b[0m\u001b[0massert_list\u001b[0m \u001b[0;32mand\u001b[0m \u001b[0;32mnot\u001b[0m \u001b[0misinstance\u001b[0m\u001b[0;34m(\u001b[0m\u001b[0mnxt\u001b[0m\u001b[0;34m,\u001b[0m \u001b[0mlist\u001b[0m\u001b[0;34m)\u001b[0m\u001b[0;34m)\u001b[0m \u001b[0;32melse\u001b[0m \u001b[0mnxt\u001b[0m\u001b[0;34m\u001b[0m\u001b[0m\n\u001b[1;32m     75\u001b[0m             \u001b[0mout\u001b[0m \u001b[0;34m=\u001b[0m \u001b[0mnxt\u001b[0m\u001b[0;34m\u001b[0m\u001b[0m\n",
      "\u001b[0;32mh5py/_objects.pyx\u001b[0m in \u001b[0;36mh5py._objects.with_phil.wrapper (/tmp/pip-4rPeHA-build/h5py/_objects.c:2684)\u001b[0;34m()\u001b[0m\n",
      "\u001b[0;32mh5py/_objects.pyx\u001b[0m in \u001b[0;36mh5py._objects.with_phil.wrapper (/tmp/pip-4rPeHA-build/h5py/_objects.c:2642)\u001b[0;34m()\u001b[0m\n",
      "\u001b[0;32m/usr/local/lib/python2.7/dist-packages/h5py/_hl/dataset.pyc\u001b[0m in \u001b[0;36m__getitem__\u001b[0;34m(self, args)\u001b[0m\n\u001b[1;32m    480\u001b[0m         \u001b[0mmspace\u001b[0m \u001b[0;34m=\u001b[0m \u001b[0mh5s\u001b[0m\u001b[0;34m.\u001b[0m\u001b[0mcreate_simple\u001b[0m\u001b[0;34m(\u001b[0m\u001b[0mmshape\u001b[0m\u001b[0;34m)\u001b[0m\u001b[0;34m\u001b[0m\u001b[0m\n\u001b[1;32m    481\u001b[0m         \u001b[0mfspace\u001b[0m \u001b[0;34m=\u001b[0m \u001b[0mselection\u001b[0m\u001b[0;34m.\u001b[0m\u001b[0mid\u001b[0m\u001b[0;34m\u001b[0m\u001b[0m\n\u001b[0;32m--> 482\u001b[0;31m         \u001b[0mself\u001b[0m\u001b[0;34m.\u001b[0m\u001b[0mid\u001b[0m\u001b[0;34m.\u001b[0m\u001b[0mread\u001b[0m\u001b[0;34m(\u001b[0m\u001b[0mmspace\u001b[0m\u001b[0;34m,\u001b[0m \u001b[0mfspace\u001b[0m\u001b[0;34m,\u001b[0m \u001b[0marr\u001b[0m\u001b[0;34m,\u001b[0m \u001b[0mmtype\u001b[0m\u001b[0;34m,\u001b[0m \u001b[0mdxpl\u001b[0m\u001b[0;34m=\u001b[0m\u001b[0mself\u001b[0m\u001b[0;34m.\u001b[0m\u001b[0m_dxpl\u001b[0m\u001b[0;34m)\u001b[0m\u001b[0;34m\u001b[0m\u001b[0m\n\u001b[0m\u001b[1;32m    483\u001b[0m \u001b[0;34m\u001b[0m\u001b[0m\n\u001b[1;32m    484\u001b[0m         \u001b[0;31m# Patch up the output for NumPy\u001b[0m\u001b[0;34m\u001b[0m\u001b[0;34m\u001b[0m\u001b[0m\n",
      "\u001b[0;31mKeyboardInterrupt\u001b[0m: "
     ]
    }
   ],
   "source": [
    "#print(repr_structure(next(genS)))\n",
    "#for i in range(tr_samples/100):\n",
    "#    x = next(genS)\n",
    "#    if(len(x[0]) == 2):\n",
    "#        print(repr_structure(x))"
   ]
  },
  {
   "cell_type": "code",
   "execution_count": 234,
   "metadata": {},
   "outputs": [
    {
     "name": "stdout",
     "output_type": "stream",
     "text": [
      "Epoch 1/50\n",
      "299999/299999 [==============================] - 410s - loss: 10443.3551 - val_loss: 8367.0326\n",
      "Epoch 2/50\n",
      "299999/299999 [==============================] - 403s - loss: 9978.5633 - val_loss: 8013.5627 - ETA: 18s - los\n",
      "Epoch 3/50\n",
      "299999/299999 [==============================] - 408s - loss: 9520.7212 - val_loss: 7608.4357: 65s - loss: 9 - ETA: 6 - - ETA: 30s -  - ETA: 12s - E - ETA: 2s - los\n",
      "Epoch 4/50\n",
      "299999/299999 [==============================] - 404s - loss: 9062.6070 - val_loss: 7181.7259- ETA: 2s - los\n",
      "Epoch 5/50\n",
      "299999/299999 [==============================] - 405s - loss: 8632.0131 - val_loss: 6847.4738 8  - ETA: 12s - loss: - ETA: 9s -\n",
      "Epoch 6/50\n",
      "299999/299999 [==============================] - 404s - loss: 8272.7013 - val_loss: 6622.1022- - ETA: 2s - los\n",
      "Epoch 7/50\n",
      "299999/299999 [==============================] - 408s - loss: 7961.9144 - val_loss: 6262.7078\n",
      "Epoch 8/50\n",
      "299999/299999 [==============================] - 405s - loss: 7675.6099 - val_loss: 5990.8657\n",
      "Epoch 9/50\n",
      "299999/299999 [==============================] - 407s - loss: 7457.1971 - val_loss: 5803.3310 - E\n",
      "Epoch 10/50\n",
      "299999/299999 [==============================] - 405s - loss: 7276.4973 - val_loss: 5725.7951TA: 15s - ETA: 9s - loss: 7 - ETA: 7s - loss: 7 - ETA: 5s - - ETA: 2s - los\n",
      "Epoch 11/50\n",
      "299999/299999 [==============================] - 406s - loss: 7109.4758 - val_loss: 5592.0214\n",
      "Epoch 12/50\n",
      "299999/299999 [==============================] - 406s - loss: 6963.9170 - val_loss: 5496.6928\n",
      "Epoch 13/50\n",
      "299999/299999 [==============================] - 406s - loss: 6794.1435 - val_loss: 5399.8790: 6805. - ETA: 13s - l - E - ETA: \n",
      "Epoch 14/50\n",
      "299999/299999 [==============================] - 404s - loss: 6610.7944 - val_loss: 5277.9891\n",
      "Epoch 15/50\n",
      "299999/299999 [==============================] - 406s - loss: 6447.4529 - val_loss: 5100.9485\n",
      "Epoch 16/50\n",
      "299999/299999 [==============================] - 404s - loss: 6270.1033 - val_loss: 5131.7631\n",
      "Epoch 17/50\n",
      "299999/299999 [==============================] - 405s - loss: 6133.3799 - val_loss: 5061.321532.\n",
      "Epoch 18/50\n",
      "299999/299999 [==============================] - 403s - loss: 6010.0728 - val_loss: 4935.3795\n",
      "Epoch 19/50\n",
      "299999/299999 [==============================] - 406s - loss: 5906.4906 - val_loss: 4842.6620los - ETA: 18s - los\n",
      "Epoch 20/50\n",
      "299999/299999 [==============================] - 405s - loss: 5794.3039 - val_loss: 4732.8803\n",
      "Epoch 21/50\n",
      "299999/299999 [==============================] - 405s - loss: 5729.0832 - val_loss: 4690.4200\n",
      "Epoch 22/50\n",
      "299999/299999 [==============================] - 404s - loss: 5618.8128 - val_loss: 4573.3778\n",
      "Epoch 23/50\n",
      "299999/299999 [==============================] - 407s - loss: 5457.6596 - val_loss: 4518.9310\n",
      "Epoch 24/50\n",
      "299999/299999 [==============================] - 405s - loss: 5386.7345 - val_loss: 4403.7473\n",
      "Epoch 25/50\n",
      "299999/299999 [==============================] - 404s - loss: 5249.6215 - val_loss: 4530.5371\n",
      "Epoch 26/50\n",
      "299999/299999 [==============================] - 405s - loss: 5174.6469 - val_loss: 4309.7518\n",
      "Epoch 27/50\n",
      "299999/299999 [==============================] - 405s - loss: 5083.4057 - val_loss: 4206.0328\n",
      "Epoch 28/50\n",
      "299999/299999 [==============================] - 405s - loss: 5030.1110 - val_loss: 4319.54675 - ETA: 2s - los\n",
      "Epoch 29/50\n",
      "299999/299999 [==============================] - 409s - loss: 4915.4282 - val_loss: 4248.4227: 66s - loss: 4 - ETA: 63s - loss:  - ET\n",
      "Epoch 30/50\n",
      "299999/299999 [==============================] - 404s - loss: 4860.9813 - val_loss: 4083.5831\n",
      "Epoch 31/50\n",
      "299999/299999 [==============================] - 406s - loss: 4835.3480 - val_loss: 4092.3115 ETA: 38s - los - ETA: 3 - ETA: 25s - loss: 4 - ETA: \n",
      "Epoch 32/50\n",
      "299999/299999 [==============================] - 409s - loss: 4776.9475 - val_loss: 3986.5164\n",
      "Epoch 33/50\n",
      "299999/299999 [==============================] - 409s - loss: 4727.0292 - val_loss: 4000.357624.\n",
      "Epoch 34/50\n",
      "299999/299999 [==============================] - 404s - loss: 4706.3391 - val_loss: 3993.0578\n",
      "Epoch 35/50\n",
      "299999/299999 [==============================] - 409s - loss: 4640.9127 - val_loss: 4070.2880\n",
      "Epoch 36/50\n",
      "299999/299999 [==============================] - 404s - loss: 4593.8193 - val_loss: 3855.1516\n",
      "Epoch 37/50\n",
      "299999/299999 [==============================] - 406s - loss: 4541.6265 - val_loss: 3824.7978\n",
      "Epoch 38/50\n",
      "299999/299999 [==============================] - 409s - loss: 4541.8726 - val_loss: 3807.7377\n",
      "Epoch 39/50\n",
      "299999/299999 [==============================] - 411s - loss: 4527.8838 - val_loss: 3939.3129\n",
      "Epoch 40/50\n",
      "299999/299999 [==============================] - 405s - loss: 4466.5936 - val_loss: 3848.8688\n",
      "Epoch 41/50\n",
      "299999/299999 [==============================] - 408s - loss: 4396.7117 - val_loss: 3893.0745\n",
      "Epoch 42/50\n",
      "299999/299999 [==============================] - 409s - loss: 4406.4532 - val_loss: 3749.7386\n",
      "Epoch 43/50\n",
      "299999/299999 [==============================] - 409s - loss: 4400.7551 - val_loss: 3731.9007\n",
      "Epoch 44/50\n",
      "299999/299999 [==============================] - 407s - loss: 4370.6208 - val_loss: 3652.2708\n",
      "Epoch 45/50\n",
      "299999/299999 [==============================] - 408s - loss: 4316.9852 - val_loss: 3792.8193\n",
      "Epoch 46/50\n",
      "299999/299999 [==============================] - 408s - loss: 4324.6623 - val_loss: 3679.3402\n",
      "Epoch 47/50\n",
      "299999/299999 [==============================] - 406s - loss: 4288.7523 - val_loss: 3669.0094\n",
      "Epoch 48/50\n",
      "299999/299999 [==============================] - 407s - loss: 4276.8619 - val_loss: 3600.8219\n",
      "Epoch 49/50\n",
      "299999/299999 [==============================] - 408s - loss: 4283.8977 - val_loss: 3652.6347\n",
      "Epoch 50/50\n",
      "299999/299999 [==============================] - 407s - loss: 4240.0468 - val_loss: 3597.2353\n"
     ]
    }
   ],
   "source": [
    "hist = chPi_try.fit_generator(genS, samples_per_epoch=tr_samples, \n",
    "                           nb_epoch=50,\n",
    "                           validation_data = genS_Val, \n",
    "                           nb_val_samples=val_samples, verbose=1,\n",
    "                           callbacks=[EarlyStopping(monitor='val_loss', patience=8, verbose=1, mode='min')\n",
    "                           , ModelCheckpoint(filepath='/home/vitoriabp/CaloImage_2017/chPi_try.h5', verbose=0)\n",
    "                                     ]\n",
    "                             )"
   ]
  },
  {
   "cell_type": "code",
   "execution_count": null,
   "metadata": {},
   "outputs": [
    {
     "name": "stdout",
     "output_type": "stream",
     "text": [
      "Epoch 1/100\n",
      "299999/299999 [==============================] - 423s - loss: 3932.4123 - val_loss: 3469.6836\n",
      "Epoch 2/100\n",
      "299999/299999 [==============================] - 408s - loss: 3965.8881 - val_loss: 3436.2059\n",
      "Epoch 3/100\n",
      "299999/299999 [==============================] - 409s - loss: 3926.5481 - val_loss: 3441.24442s - los\n",
      "Epoch 4/100\n",
      "299999/299999 [==============================] - 407s - loss: 3977.4383 - val_loss: 3438.2164\n",
      "Epoch 5/100\n",
      "299999/299999 [==============================] - 410s - loss: 3885.9213 - val_loss: 3498.8682\n",
      "Epoch 6/100\n",
      "299999/299999 [==============================] - 406s - loss: 3898.0574 - val_loss: 3503.5276\n",
      "Epoch 7/100\n",
      "299999/299999 [==============================] - 409s - loss: 3895.2320 - val_loss: 3396.4030\n",
      "Epoch 8/100\n",
      "299999/299999 [==============================] - 410s - loss: 3857.1056 - val_loss: 3459.0331\n",
      "Epoch 9/100\n",
      "299999/299999 [==============================] - 407s - loss: 3760.0090 - val_loss: 3320.9515\n",
      "Epoch 21/100\n",
      "299999/299999 [==============================] - 408s - loss: 3767.7450 - val_loss: 3474.8452\n",
      "Epoch 22/100\n",
      "299999/299999 [==============================] - 408s - loss: 3789.8630 - val_loss: 3367.2166\n",
      "Epoch 23/100\n",
      "299999/299999 [==============================] - 408s - loss: 3742.2332 - val_loss: 3465.7376 5s - - ETA: 2s - los\n",
      "Epoch 24/100\n",
      "299999/299999 [==============================] - 407s - loss: 3766.6302 - val_loss: 3292.1410\n",
      "Epoch 25/100\n",
      "299999/299999 [==============================] - 408s - loss: 3734.2338 - val_loss: 3477.6738\n",
      "Epoch 26/100\n",
      "299999/299999 [==============================] - 406s - loss: 3805.7254 - val_loss: 3327.9121\n",
      "Epoch 27/100\n",
      "299999/299999 [==============================] - 408s - loss: 3770.7471 - val_loss: 3312.0383\n",
      "Epoch 28/100\n",
      "299999/299999 [==============================] - 408s - loss: 3703.2790 - val_loss: 3350.5390\n",
      "Epoch 29/100\n",
      "299999/299999 [==============================] - 407s - loss: 3751.8756 - val_loss: 3314.9304\n",
      "Epoch 30/100\n",
      "299999/299999 [==============================] - 404s - loss: 3695.8323 - val_loss: 3284.5920\n",
      "Epoch 31/100\n",
      "299999/299999 [==============================] - 407s - loss: 3675.8559 - val_loss: 3298.7084\n",
      "Epoch 32/100\n",
      "299999/299999 [==============================] - 406s - loss: 3771.5271 - val_loss: 3295.4980\n",
      "Epoch 33/100\n",
      "299999/299999 [==============================] - 405s - loss: 3733.3656 - val_loss: 3329.5124\n",
      "Epoch 34/100\n",
      "299999/299999 [==============================] - 404s - loss: 3667.7795 - val_loss: 3339.675967.\n",
      "Epoch 35/100\n",
      "299999/299999 [==============================] - 408s - loss: 3650.8128 - val_loss: 3323.9134\n",
      "Epoch 36/100\n",
      "299999/299999 [==============================] - 404s - loss: 3677.2582 - val_loss: 3282.5844\n",
      "Epoch 37/100\n",
      "299999/299999 [==============================] - 406s - loss: 3661.5705 - val_loss: 3361.9260 3 - ETA - ETA: 74s - los - ETA: \n",
      "Epoch 38/100\n",
      "299999/299999 [==============================] - 404s - loss: 3720.0269 - val_loss: 3294.2208\n",
      "Epoch 39/100\n",
      "299999/299999 [==============================] - 406s - loss: 3677.5865 - val_loss: 3235.1794\n",
      "Epoch 40/100\n",
      "299999/299999 [==============================] - 404s - loss: 3621.1749 - val_loss: 3256.7847TA:\n",
      "Epoch 41/100\n",
      "299999/299999 [==============================] - 408s - loss: 3673.4395 - val_loss: 3299.4536\n",
      "Epoch 42/100\n",
      "299999/299999 [==============================] - 404s - loss: 3608.7722 - val_loss: 3252.2820\n",
      "Epoch 43/100\n",
      "299999/299999 [==============================] - 405s - loss: 3635.1153 - val_loss: 3284.9123 3637. - ET - ETA: 87 - ETA: 6 - ETA: 59s - - ETA: 53s - los  - ETA: 36s - los - ETA - ETA:\n",
      "Epoch 44/100\n",
      "299999/299999 [==============================] - 404s - loss: 3595.9085 - val_loss: 3192.9055 los - ETA: 70 - ETA: 50s - - ETA: 43s - los - - ETA: 0s - loss: 3595.\n",
      "Epoch 45/100\n",
      "299999/299999 [==============================] - 406s - loss: 3671.3775 - val_loss: 3342.634371.\n",
      "Epoch 46/100\n",
      "299999/299999 [==============================] - 408s - loss: 3594.8136 - val_loss: 3235.3439\n",
      "Epoch 47/100\n",
      "299999/299999 [==============================] - 407s - loss: 3587.7336 - val_loss: 3274.8457\n",
      "Epoch 48/100\n",
      "299999/299999 [==============================] - 404s - loss: 3636.9269 - val_loss: 3263.7051\n",
      "Epoch 49/100\n",
      "299999/299999 [==============================] - 406s - loss: 3588.8712 - val_loss: 3209.2480\n",
      "Epoch 50/100\n",
      "299999/299999 [==============================] - 407s - loss: 3601.1367 - val_loss: 3200.2367\n",
      "Epoch 51/100\n",
      "299999/299999 [==============================] - 407s - loss: 3597.0292 - val_loss: 3202.437296.\n",
      "Epoch 52/100\n",
      "299999/299999 [==============================] - 536s - loss: 3551.3825 - val_loss: 3196.3981\n",
      "Epoch 53/100\n",
      "299999/299999 [==============================] - 574s - loss: 3562.1503 - val_loss: 3339.0407- loss: 3 - ETA: 103s\n",
      "Epoch 00052: early stopping\n"
     ]
    }
   ],
   "source": [
    "hist = chPi_try.fit_generator(genS, samples_per_epoch=tr_samples, \n",
    "                           nb_epoch=100,\n",
    "                           validation_data = genS_Val, \n",
    "                           nb_val_samples=val_samples, verbose=1,\n",
    "                           callbacks=[EarlyStopping(monitor='val_loss', patience=8, verbose=1, mode='min')\n",
    "                           , ModelCheckpoint(filepath='/home/vitoriabp/CaloImage_2017/chPi_try.h5', verbose=0)\n",
    "                                     ]\n",
    "                             )"
   ]
  },
  {
   "cell_type": "code",
   "execution_count": 5,
   "metadata": {
    "collapsed": true
   },
   "outputs": [],
   "source": [
    "?loadModel"
   ]
  },
  {
   "cell_type": "code",
   "execution_count": 6,
   "metadata": {},
   "outputs": [
    {
     "name": "stdout",
     "output_type": "stream",
     "text": [
      "Loaded model from disk\n"
     ]
    }
   ],
   "source": [
    "chPi = loadModel(\"chPi\", weights=True)"
   ]
  },
  {
   "cell_type": "code",
   "execution_count": 7,
   "metadata": {
    "collapsed": true
   },
   "outputs": [],
   "source": [
    "chPi.compile(loss = 'mse', optimizer = 'adam')"
   ]
  },
  {
   "cell_type": "markdown",
   "metadata": {
    "collapsed": true
   },
   "source": [
    "## test"
   ]
  },
  {
   "cell_type": "code",
   "execution_count": 8,
   "metadata": {},
   "outputs": [
    {
     "name": "stdout",
     "output_type": "stream",
     "text": [
      "(299999, 1)\n",
      "(299999, 1)\n"
     ]
    }
   ],
   "source": [
    "testDir = '/bigdata/shared/LCD/V1/ChPiEscan/test' # test directory where you get the targets from\n",
    "mod = '/home/vitoriabp/CaloImage_2017/chPi.json' # model file\n",
    "w = '/home/vitoriabp/CaloImage_2017/chPi.h5' # weights file\n",
    "\n",
    "from CMS_Deep_Learning.io import simple_grab\n",
    "\n",
    "# grab y and predictions together\n",
    "all_y, all_pred, = simple_grab(['Y', 'predictions'], data = testDir, label_keys='target',\n",
    "                               input_keys=['ECAL', 'HCAL'], model = mod, weights = w)\n",
    "print all_pred.shape\n",
    "\n",
    "all_y = all_y[:, 1:]\n",
    "print(all_y.shape)\n",
    "\n",
    "#print all_pred\n",
    "\n",
    "#print all_y"
   ]
  },
  {
   "cell_type": "code",
   "execution_count": 9,
   "metadata": {},
   "outputs": [
    {
     "name": "stdout",
     "output_type": "stream",
     "text": [
      "[[ 195.0655365 ]\n",
      " [ 342.67913818]\n",
      " [ 478.60690308]\n",
      " ..., \n",
      " [ 121.90789032]\n",
      " [ 157.67967224]\n",
      " [ 245.70317078]]\n"
     ]
    }
   ],
   "source": [
    "print all_pred"
   ]
  },
  {
   "cell_type": "code",
   "execution_count": 10,
   "metadata": {},
   "outputs": [
    {
     "name": "stderr",
     "output_type": "stream",
     "text": [
      "/usr/local/lib/python2.7/dist-packages/matplotlib/axes/_axes.py:531: UserWarning: No labelled objects found. Use label='...' kwarg on individual plots.\n",
      "  warnings.warn(\"No labelled objects found. \"\n"
     ]
    },
    {
     "data": {
      "image/png": "[encoded data removed]",
      "text/plain": [
       "<matplotlib.figure.Figure at 0x7f47c2f3c3d0>"
      ]
     },
     "metadata": {},
     "output_type": "display_data"
    }
   ],
   "source": [
    "plotPredictedXTarget(all_y, all_pred)"
   ]
  },
  {
   "cell_type": "code",
   "execution_count": 11,
   "metadata": {},
   "outputs": [
    {
     "name": "stdout",
     "output_type": "stream",
     "text": [
      "-1.06324216069\n",
      "63.7477134353\n"
     ]
    },
    {
     "data": {
      "image/png": "[encoded data removed]",
      "text/plain": [
       "<matplotlib.figure.Figure at 0x7f48d4137b10>"
      ]
     },
     "metadata": {},
     "output_type": "display_data"
    }
   ],
   "source": [
    "histEDif(all_y, all_pred, nbins=1800, lim=10)"
   ]
  }
 ],
 "metadata": {
  "kernelspec": {
   "display_name": "Python 2",
   "language": "python",
   "name": "python2"
  },
  "language_info": {
   "codemirror_mode": {
    "name": "ipython",
    "version": 2
   },
   "file_extension": ".py",
   "mimetype": "text/x-python",
   "name": "python",
   "nbconvert_exporter": "python",
   "pygments_lexer": "ipython2",
   "version": "2.7.12"
  }
 },
 "nbformat": 4,
 "nbformat_minor": 2
}
