{
 "cells": [
  {
   "cell_type": "code",
   "execution_count": null,
   "metadata": {
    "collapsed": true
   },
   "outputs": [],
   "source": [
    "import os\n",
    "#import numpy as np\n",
    "import sys\n",
    "import glob\n",
    "import re\n",
    "import h5py\n",
    "#os.environ['KERAS_BACKEND'] = 'theano'\n",
    "os.environ['KERAS_BACKEND'] = 'tensorflow'\n",
    "os.environ['CUDA_VISIBLE_DEVICES'] = '2'\n",
    "#from keras.models import Sequential, Model, model_from_json\n",
    "#from keras.layers import Dense, Activation, Input, Dense, Dropout, merge, Reshape, Convolution3D, MaxPooling3D, Flatten\n",
    "from keras.callbacks import EarlyStopping, ModelCheckpoint\n",
    "#%matplotlib inline"
   ]
  },
  {
   "cell_type": "code",
   "execution_count": null,
   "metadata": {
    "collapsed": true
   },
   "outputs": [],
   "source": [
    "if __package__ is None:\n",
    "    sys.path.append(os.path.realpath(\"/home/vitoriabp/RegressionLCD/\"))\n",
    "    \n",
    "from model import *\n",
    "from preprocessing import *\n",
    "from plots import *\n",
    "\n",
    "if __package__ is None:\n",
    "    sys.path.append(os.path.realpath(\"/data/shared/Software/CMS_Deep_Learning\"))\n",
    "    \n",
    "from CMS_Deep_Learning.io import gen_from_data, retrieve_data, simple_grab\n",
    "from CMS_Deep_Learning.postprocessing.metrics import distribute_to_bins"
   ]
  },
  {
   "cell_type": "code",
   "execution_count": null,
   "metadata": {
    "collapsed": true
   },
   "outputs": [],
   "source": [
    "# Generator\n",
    "\n",
    "# Defining the directories, which contain the splitted data\n",
    "\n",
    "train_dir = \"/bigdata/shared/LCD/V1/ChPiEscan/_ChPiEscan/train/\"\n",
    "valid_dir = \"/bigdata/shared/LCD/V1/ChPiEscan/_ChPiEscan/valid/\"\n",
    "test_dir = \"/bigdata/shared/LCD/V1/ChPiEscan/_ChPiEscan/test/\"\n",
    "\n",
    "## Danny's generator\n",
    "\n",
    "# training set:\n",
    "train = gen_from_data(train_dir, batch_size=500, data_keys=[[\"good_ECAL\", \"good_HCAL\"], \"good_target\"], prep_func=reshapeData)\n",
    "\n",
    "# validation set:\n",
    "val = gen_from_data(valid_dir, batch_size=500, data_keys=[[\"good_ECAL\", \"good_HCAL\"], \"good_target\"], prep_func=reshapeData)\n",
    "\n",
    "# testing set:\n",
    "test = gen_from_data(test_dir, batch_size=500, data_keys=[[\"good_ECAL\", \"good_HCAL\"], \"good_target\"], prep_func=reshapeData)"
   ]
  },
  {
   "cell_type": "code",
   "execution_count": null,
   "metadata": {
    "collapsed": true
   },
   "outputs": [],
   "source": [
    "def nb_samples_from_h5(file_path):\n",
    "    '''Get the number of samples contained in any .h5 file; numpy or pandas.\n",
    "    :param file_path: The file_path\n",
    "    :returns: The number of samples.\n",
    "    '''\n",
    "    try:\n",
    "        f = d = h5py.File(file_path, 'r')\n",
    "    except IOError as e:\n",
    "        raise IOError(str(e) + \" at %r\" % file_path)\n",
    "        \n",
    "    try:\n",
    "        while not isinstance(d, h5py.Dataset):\n",
    "            keys = d.keys()\n",
    "            d = d['good_ECAL' if 'good_ECAL' in keys else keys[0]]\n",
    "        out = d.len()\n",
    "    except IOError as e:\n",
    "        raise IOError(str(e) + \" at %r\" % file_path)\n",
    "        \n",
    "    finally:\n",
    "        f.close()\n",
    "        \n",
    "    return out"
   ]
  },
  {
   "cell_type": "code",
   "execution_count": null,
   "metadata": {
    "collapsed": true
   },
   "outputs": [],
   "source": [
    "def nSamples(directory):\n",
    "    '''\n",
    "    Return number of samples in the directory.\n",
    "    :param directory: path to directory that contains the HDF5 files\n",
    "    :type directory: str\n",
    "    :return: number of samples\n",
    "    :rtype: int\n",
    "    '''\n",
    "    import sys\n",
    "    import os\n",
    "    if __package__ is None:\n",
    "        sys.path.append(os.path.realpath(\"/data/shared/Software/CMS_Deep_Learning\"))\n",
    "    from CMS_Deep_Learning.io import nb_samples_from_h5\n",
    "\n",
    "    samples = 0\n",
    "    for f in os.listdir(directory):\n",
    "        samples += nb_samples_from_h5(directory+f)\n",
    "\n",
    "    return samples\n"
   ]
  },
  {
   "cell_type": "code",
   "execution_count": null,
   "metadata": {
    "collapsed": true
   },
   "outputs": [],
   "source": [
    "tr_samples = nSamples(\"/bigdata/shared/LCD/V1/ChPiEscan/_ChPiEscan/train/\")\n",
    "\n",
    "print tr_samples\n",
    "\n",
    "val_samples = nSamples(\"/bigdata/shared/LCD/V1/ChPiEscan/_ChPiEscan/valid/\")\n",
    "\n",
    "print val_samples"
   ]
  },
  {
   "cell_type": "code",
   "execution_count": null,
   "metadata": {
    "collapsed": true
   },
   "outputs": [],
   "source": [
    "model = defModel(name = \"ChPi_filtered\")"
   ]
  },
  {
   "cell_type": "code",
   "execution_count": null,
   "metadata": {
    "collapsed": true
   },
   "outputs": [],
   "source": [
    "hist = model.fit_generator(train, samples_per_epoch=tr_samples, \n",
    "                           nb_epoch=400,\n",
    "                           validation_data = val, \n",
    "                           nb_val_samples=val_samples, verbose=1,\n",
    "                           callbacks=[EarlyStopping(monitor='val_loss', patience=8, verbose=1, mode='min')\n",
    "                           , ModelCheckpoint(filepath='/home/vitoriabp/CaloImage_2017/ChPi_filtered.h5', verbose=0)\n",
    "                                     ]\n",
    "                             )"
   ]
  },
  {
   "cell_type": "code",
   "execution_count": null,
   "metadata": {
    "collapsed": true
   },
   "outputs": [],
   "source": [
    "saveModel(model, name=\"ChPi_filtered\")\n",
    "saveLosses(hist, name=\"ChPi_filtered\")"
   ]
  }
 ],
 "metadata": {
  "kernelspec": {
   "display_name": "Python 2",
   "language": "python",
   "name": "python2"
  },
  "language_info": {
   "codemirror_mode": {
    "name": "ipython",
    "version": 2
   },
   "file_extension": ".py",
   "mimetype": "text/x-python",
   "name": "python",
   "nbconvert_exporter": "python",
   "pygments_lexer": "ipython2",
   "version": "2.7.12"
  }
 },
 "nbformat": 4,
 "nbformat_minor": 2
}
