{
 "cells": [
  {
   "cell_type": "code",
   "execution_count": 1,
   "metadata": {},
   "outputs": [
    {
     "name": "stderr",
     "output_type": "stream",
     "text": [
      "Using TensorFlow backend.\n"
     ]
    },
    {
     "name": "stdout",
     "output_type": "stream",
     "text": [
      "Loaded model from disk\n",
      "____________________________________________________________________________________________________\n",
      "Layer (type)                     Output Shape          Param #     Connected to                     \n",
      "====================================================================================================\n",
      "input_1 (InputLayer)             (None, 25, 25, 25)    0                                            \n",
      "____________________________________________________________________________________________________\n",
      "input_2 (InputLayer)             (None, 5, 5, 60)      0                                            \n",
      "____________________________________________________________________________________________________\n",
      "reshape_1 (Reshape)              (None, 25, 25, 25, 1) 0           input_1[0][0]                    \n",
      "____________________________________________________________________________________________________\n",
      "reshape_2 (Reshape)              (None, 5, 5, 60, 1)   0           input_2[0][0]                    \n",
      "____________________________________________________________________________________________________\n",
      "convolution3d_1 (Convolution3D)  (None, 22, 22, 22, 3) 195         reshape_1[0][0]                  \n",
      "____________________________________________________________________________________________________\n",
      "convolution3d_2 (Convolution3D)  (None, 4, 4, 55, 10)  250         reshape_2[0][0]                  \n",
      "____________________________________________________________________________________________________\n",
      "maxpooling3d_1 (MaxPooling3D)    (None, 11, 11, 11, 3) 0           convolution3d_1[0][0]            \n",
      "____________________________________________________________________________________________________\n",
      "maxpooling3d_2 (MaxPooling3D)    (None, 2, 2, 27, 10)  0           convolution3d_2[0][0]            \n",
      "____________________________________________________________________________________________________\n",
      "flatten_1 (Flatten)              (None, 3993)          0           maxpooling3d_1[0][0]             \n",
      "____________________________________________________________________________________________________\n",
      "flatten_2 (Flatten)              (None, 1080)          0           maxpooling3d_2[0][0]             \n",
      "____________________________________________________________________________________________________\n",
      "merge_1 (Merge)                  (None, 5073)          0           flatten_1[0][0]                  \n",
      "                                                                   flatten_2[0][0]                  \n",
      "____________________________________________________________________________________________________\n",
      "dense_1 (Dense)                  (None, 1000)          5074000     merge_1[0][0]                    \n",
      "____________________________________________________________________________________________________\n",
      "dropout_1 (Dropout)              (None, 1000)          0           dense_1[0][0]                    \n",
      "____________________________________________________________________________________________________\n",
      "energy (Dense)                   (None, 1)             1001        dropout_1[0][0]                  \n",
      "====================================================================================================\n",
      "Total params: 5,075,446\n",
      "Trainable params: 5,075,446\n",
      "Non-trainable params: 0\n",
      "____________________________________________________________________________________________________\n"
     ]
    }
   ],
   "source": [
    "import os\n",
    "#import numpy as np\n",
    "import sys\n",
    "import glob\n",
    "import re\n",
    "import h5py\n",
    "#os.environ['KERAS_BACKEND'] = 'theano'\n",
    "os.environ['KERAS_BACKEND'] = 'tensorflow'\n",
    "os.environ['CUDA_VISIBLE_DEVICES'] = '1'\n",
    "#from keras.models import Sequential, Model, model_from_json\n",
    "#from keras.layers import Dense, Activation, Input, Dense, Dropout, merge, Reshape, Convolution3D, MaxPooling3D, Flatten\n",
    "from keras.callbacks import EarlyStopping, ModelCheckpoint\n",
    "%matplotlib inline\n",
    "\n",
    "# Assume that you have 12GB of GPU memory and want to allocate ~4GB:\n",
    "import tensorflow as tf\n",
    "gpu_options = tf.GPUOptions(per_process_gpu_memory_fraction=0.333)\n",
    "\n",
    "sess = tf.Session(config=tf.ConfigProto(gpu_options=gpu_options))\n",
    "\n",
    "if __package__ is None:\n",
    "    sys.path.append(os.path.realpath(\"/home/vitoriabp/RegressionLCD/\"))\n",
    "    \n",
    "from model import *\n",
    "from preprocessing import *\n",
    "from plots import *\n",
    "\n",
    "if __package__ is None:\n",
    "    sys.path.append(os.path.realpath(\"/data/shared/Software/CMS_Deep_Learning\"))\n",
    "    \n",
    "from CMS_Deep_Learning.io import gen_from_data, retrieve_data, simple_grab\n",
    "from CMS_Deep_Learning.postprocessing.metrics import distribute_to_bins\n",
    "\n",
    "## Defining model\n",
    "\n",
    "chPi = loadModel(\"chPi_mse\")\n",
    "\n",
    "chPi.compile(loss='mse', optimizer='adam')\n",
    "\n",
    "saveModel(chPi, \"chPi\")\n",
    "\n",
    "## Generator\n",
    "# Defining the directories, which contain the splitted data\n",
    "\n",
    "train_dir = \"/bigdata/shared/LCD/V1/ChPiEscan/train\"\n",
    "valid_dir = \"/bigdata/shared/LCD/V1/ChPiEscan/valid\"\n",
    "test_dir = \"/bigdata/shared/LCD/V1/ChPiEscan/test\"\n",
    "\n",
    "# Danny's generator\n",
    "\n",
    "# training set:\n",
    "train = gen_from_data(train_dir, batch_size=500, data_keys=[[\"ECAL\", \"HCAL\"], \"target\"], prep_func=reshapeData)\n",
    "\n",
    "# validation set:\n",
    "val = gen_from_data(valid_dir, batch_size=500, data_keys=[[\"ECAL\", \"HCAL\"], \"target\"], prep_func=reshapeData)\n",
    "\n",
    "# testing set:\n",
    "test = gen_from_data(valid_dir, batch_size=500, data_keys=[[\"ECAL\", \"HCAL\"], \"target\"], prep_func=reshapeData)"
   ]
  },
  {
   "cell_type": "markdown",
   "metadata": {},
   "source": [
    "### Looking at the data"
   ]
  },
  {
   "cell_type": "code",
   "execution_count": 6,
   "metadata": {},
   "outputs": [
    {
     "name": "stdout",
     "output_type": "stream",
     "text": [
      "(299999,)\n"
     ]
    },
    {
     "ename": "NameError",
     "evalue": "global name 'simple_grab' is not defined",
     "output_type": "error",
     "traceback": [
      "\u001b[0;31m---------------------------------------------------------------------------\u001b[0m",
      "\u001b[0;31mNameError\u001b[0m                                 Traceback (most recent call last)",
      "\u001b[0;32m<ipython-input-6-7a87c1a66005>\u001b[0m in \u001b[0;36m<module>\u001b[0;34m()\u001b[0m\n\u001b[0;32m----> 1\u001b[0;31m \u001b[0mtarget\u001b[0m\u001b[0;34m,\u001b[0m \u001b[0minSum\u001b[0m \u001b[0;34m=\u001b[0m \u001b[0mpreSum\u001b[0m\u001b[0;34m(\u001b[0m\u001b[0mtrain_dir\u001b[0m\u001b[0;34m)\u001b[0m\u001b[0;34m\u001b[0m\u001b[0m\n\u001b[0m",
      "\u001b[0;32m<ipython-input-5-f618739f6e18>\u001b[0m in \u001b[0;36mpreSum\u001b[0;34m(train_dir)\u001b[0m\n\u001b[1;32m     16\u001b[0m \u001b[0;34m\u001b[0m\u001b[0m\n\u001b[1;32m     17\u001b[0m     \u001b[0;31m# sum of ECAL and HCAL\u001b[0m\u001b[0;34m\u001b[0m\u001b[0;34m\u001b[0m\u001b[0m\n\u001b[0;32m---> 18\u001b[0;31m     \u001b[0minSum\u001b[0m \u001b[0;34m=\u001b[0m \u001b[0minpSum\u001b[0m\u001b[0;34m(\u001b[0m\u001b[0mtrain_dir\u001b[0m\u001b[0;34m)\u001b[0m\u001b[0;34m\u001b[0m\u001b[0m\n\u001b[0m\u001b[1;32m     19\u001b[0m \u001b[0;34m\u001b[0m\u001b[0m\n\u001b[1;32m     20\u001b[0m     \u001b[0;32mreturn\u001b[0m \u001b[0mall_y\u001b[0m\u001b[0;34m,\u001b[0m \u001b[0minSum\u001b[0m\u001b[0;34m\u001b[0m\u001b[0m\n",
      "\u001b[0;32m/home/vitoriabp/RegressionLCD/preprocessing.py\u001b[0m in \u001b[0;36minpSum\u001b[0;34m(dir)\u001b[0m\n\u001b[1;32m    125\u001b[0m     '''\n\u001b[1;32m    126\u001b[0m     \u001b[0;31m# grab ECAL and HCAL inputs\u001b[0m\u001b[0;34m\u001b[0m\u001b[0;34m\u001b[0m\u001b[0m\n\u001b[0;32m--> 127\u001b[0;31m     \u001b[0mecal\u001b[0m\u001b[0;34m,\u001b[0m \u001b[0mhcal\u001b[0m \u001b[0;34m=\u001b[0m \u001b[0msimple_grab\u001b[0m\u001b[0;34m(\u001b[0m\u001b[0;34m'X'\u001b[0m\u001b[0;34m,\u001b[0m \u001b[0mdata\u001b[0m\u001b[0;34m=\u001b[0m\u001b[0mdir\u001b[0m\u001b[0;34m,\u001b[0m \u001b[0mlabel_keys\u001b[0m\u001b[0;34m=\u001b[0m\u001b[0;34m[\u001b[0m\u001b[0;34m'ECAL'\u001b[0m\u001b[0;34m,\u001b[0m \u001b[0;34m'HCAL'\u001b[0m\u001b[0;34m]\u001b[0m\u001b[0;34m,\u001b[0m \u001b[0minput_keys\u001b[0m\u001b[0;34m=\u001b[0m\u001b[0;34m[\u001b[0m\u001b[0;34m'ECAL'\u001b[0m\u001b[0;34m,\u001b[0m \u001b[0;34m'HCAL'\u001b[0m\u001b[0;34m]\u001b[0m\u001b[0;34m)\u001b[0m\u001b[0;34m\u001b[0m\u001b[0m\n\u001b[0m\u001b[1;32m    128\u001b[0m \u001b[0;34m\u001b[0m\u001b[0m\n\u001b[1;32m    129\u001b[0m     \u001b[0;31m# sums\u001b[0m\u001b[0;34m\u001b[0m\u001b[0;34m\u001b[0m\u001b[0m\n",
      "\u001b[0;31mNameError\u001b[0m: global name 'simple_grab' is not defined"
     ]
    }
   ],
   "source": [
    " target, inSum = preSum(train_dir)"
   ]
  },
  {
   "cell_type": "code",
   "execution_count": 2,
   "metadata": {},
   "outputs": [
    {
     "name": "stdout",
     "output_type": "stream",
     "text": [
      "299999\n",
      "200000\n"
     ]
    }
   ],
   "source": [
    "## Training\n",
    "\n",
    "tr_samples = nSamples(\"/bigdata/shared/LCD/V1/ChPiEscan/train/\")\n",
    "\n",
    "print tr_samples\n",
    "\n",
    "val_samples = nSamples(\"/bigdata/shared/LCD/V1/ChPiEscan/valid/\")\n",
    "\n",
    "print val_samples"
   ]
  },
  {
   "cell_type": "code",
   "execution_count": null,
   "metadata": {
    "collapsed": true
   },
   "outputs": [],
   "source": [
    "hist = chPi.fit_generator(train, samples_per_epoch=tr_samples, \n",
    "                           nb_epoch=200,\n",
    "                           validation_data = val, \n",
    "                           nb_val_samples=val_samples, verbose=1,\n",
    "                           callbacks=[EarlyStopping(monitor='val_loss', patience=9, verbose=1, mode='min')\n",
    "                           , ModelCheckpoint(filepath='/home/vitoriabp/CaloImage_2017/chPi.h5', verbose=0)\n",
    "                                     ]\n",
    "                             )\n",
    "\n",
    "## Test\n",
    "testDir = '/bigdata/shared/LCD/V1/ChPiEscan/test' # test directory where you get the targets from\n",
    "mod = '/home/vitoriabp/CaloImage_2017/chPi.json' # model file\n",
    "w = '/home/vitoriabp/CaloImage_2017/chPi.h5' # weights file\n",
    "\n",
    "from CMS_Deep_Learning.io import simple_grab\n",
    "\n",
    "# grab y and predictions together\n",
    "all_y, all_pred, = simple_grab(['Y', 'predictions'], data = testDir, label_keys='target',\n",
    "                               input_keys=['ECAL', 'HCAL'], model = mod, weights = w)\n",
    "print all_pred.shape\n",
    "\n",
    "all_y = all_y[:, 1:]\n",
    "print(all_y.shape)\n",
    "\n",
    "print all_pred\n",
    "\n",
    "#print all_y\n",
    "\n",
    "#plotPredictedXTarget(all_y, all_pred)"
   ]
  }
 ],
 "metadata": {
  "kernelspec": {
   "display_name": "Python 2",
   "language": "python",
   "name": "python2"
  },
  "language_info": {
   "codemirror_mode": {
    "name": "ipython",
    "version": 2
   },
   "file_extension": ".py",
   "mimetype": "text/x-python",
   "name": "python",
   "nbconvert_exporter": "python",
   "pygments_lexer": "ipython2",
   "version": "2.7.12"
  }
 },
 "nbformat": 4,
 "nbformat_minor": 2
}
