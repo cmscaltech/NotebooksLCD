{
 "cells": [
  {
   "cell_type": "code",
   "execution_count": 1,
   "metadata": {},
   "outputs": [
    {
     "name": "stderr",
     "output_type": "stream",
     "text": [
      "Using TensorFlow backend.\n"
     ]
    },
    {
     "name": "stdout",
     "output_type": "stream",
     "text": [
      "2.0.6\n"
     ]
    }
   ],
   "source": [
    "import keras\n",
    "print(keras.__version__)"
   ]
  },
  {
   "cell_type": "code",
   "execution_count": 2,
   "metadata": {
    "collapsed": true
   },
   "outputs": [],
   "source": [
    "import h5py"
   ]
  },
  {
   "cell_type": "code",
   "execution_count": 3,
   "metadata": {},
   "outputs": [],
   "source": [
    "import os\n",
    "import sys\n",
    "#import re\n",
    "#import glob\n",
    "#os.environ['KERAS_BACKEND'] = 'theano'\n",
    "os.environ['KERAS_BACKEND'] = 'tensorflow'\n",
    "os.environ['CUDA_VISIBLE_DEVICES'] = '4'\n",
    "from keras.callbacks import EarlyStopping, ModelCheckpoint\n",
    "%matplotlib inline"
   ]
  },
  {
   "cell_type": "code",
   "execution_count": 4,
   "metadata": {},
   "outputs": [],
   "source": [
    "import numpy as np\n",
    "from keras.models import Sequential, Model, model_from_json\n",
    "from keras.layers import Dense, Activation, Input, Dense, Dropout, merge, Reshape, Convolution3D, MaxPooling3D, Flatten"
   ]
  },
  {
   "cell_type": "code",
   "execution_count": 5,
   "metadata": {},
   "outputs": [
    {
     "ename": "ImportError",
     "evalue": "cannot import name 'NoneType'",
     "output_type": "error",
     "traceback": [
      "\u001b[0;31m---------------------------------------------------------------------------\u001b[0m",
      "\u001b[0;31mImportError\u001b[0m                               Traceback (most recent call last)",
      "\u001b[0;32m<ipython-input-5-c423ed28726c>\u001b[0m in \u001b[0;36m<module>\u001b[0;34m()\u001b[0m\n\u001b[1;32m      3\u001b[0m \u001b[0;34m\u001b[0m\u001b[0m\n\u001b[1;32m      4\u001b[0m \u001b[0;32mfrom\u001b[0m \u001b[0mCMS_Deep_Learning\u001b[0m\u001b[0;34m.\u001b[0m\u001b[0mio\u001b[0m \u001b[0;32mimport\u001b[0m \u001b[0mgen_from_data\u001b[0m\u001b[0;34m,\u001b[0m \u001b[0mretrieve_data\u001b[0m\u001b[0;34m,\u001b[0m \u001b[0msimple_grab\u001b[0m\u001b[0;34m,\u001b[0m \u001b[0mnb_samples_from_h5\u001b[0m\u001b[0;34m\u001b[0m\u001b[0m\n\u001b[0;32m----> 5\u001b[0;31m \u001b[0;32mfrom\u001b[0m \u001b[0mCMS_Deep_Learning\u001b[0m\u001b[0;34m.\u001b[0m\u001b[0mpostprocessing\u001b[0m\u001b[0;34m.\u001b[0m\u001b[0mmetrics\u001b[0m \u001b[0;32mimport\u001b[0m \u001b[0mdistribute_to_bins\u001b[0m\u001b[0;34m\u001b[0m\u001b[0m\n\u001b[0m",
      "\u001b[0;32m/data/shared/Software/CMS_Deep_Learning/CMS_Deep_Learning/postprocessing/metrics.py\u001b[0m in \u001b[0;36m<module>\u001b[0;34m()\u001b[0m\n\u001b[1;32m      1\u001b[0m \u001b[0;32mfrom\u001b[0m \u001b[0mCMS_Deep_Learning\u001b[0m\u001b[0;34m.\u001b[0m\u001b[0mio\u001b[0m \u001b[0;32mimport\u001b[0m \u001b[0msimple_grab\u001b[0m\u001b[0;34m,\u001b[0m \u001b[0massert_list\u001b[0m\u001b[0;34m\u001b[0m\u001b[0m\n\u001b[0;32m----> 2\u001b[0;31m \u001b[0;32mfrom\u001b[0m \u001b[0mCMS_Deep_Learning\u001b[0m\u001b[0;34m.\u001b[0m\u001b[0mpreprocessing\u001b[0m\u001b[0;34m.\u001b[0m\u001b[0mpandas_to_numpy\u001b[0m \u001b[0;32mimport\u001b[0m \u001b[0mPARTICLE_OBSERVS\u001b[0m\u001b[0;34m\u001b[0m\u001b[0m\n\u001b[0m\u001b[1;32m      3\u001b[0m \u001b[0;32mimport\u001b[0m \u001b[0mnumpy\u001b[0m \u001b[0;32mas\u001b[0m \u001b[0mnp\u001b[0m\u001b[0;34m\u001b[0m\u001b[0m\n\u001b[1;32m      4\u001b[0m \u001b[0;34m\u001b[0m\u001b[0m\n\u001b[1;32m      5\u001b[0m \u001b[0;34m\u001b[0m\u001b[0m\n",
      "\u001b[0;32m/data/shared/Software/CMS_Deep_Learning/CMS_Deep_Learning/preprocessing/pandas_to_numpy.py\u001b[0m in \u001b[0;36m<module>\u001b[0;34m()\u001b[0m\n\u001b[1;32m      1\u001b[0m \u001b[0;32mimport\u001b[0m \u001b[0msys\u001b[0m\u001b[0;34m,\u001b[0m\u001b[0mos\u001b[0m\u001b[0;34m\u001b[0m\u001b[0m\n\u001b[1;32m      2\u001b[0m \u001b[0;32mfrom\u001b[0m \u001b[0msix\u001b[0m \u001b[0;32mimport\u001b[0m \u001b[0mstring_types\u001b[0m\u001b[0;34m\u001b[0m\u001b[0m\n\u001b[0;32m----> 3\u001b[0;31m \u001b[0;32mfrom\u001b[0m \u001b[0mtypes\u001b[0m \u001b[0;32mimport\u001b[0m \u001b[0mNoneType\u001b[0m\u001b[0;34m\u001b[0m\u001b[0m\n\u001b[0m\u001b[1;32m      4\u001b[0m \u001b[0;34m\u001b[0m\u001b[0m\n\u001b[1;32m      5\u001b[0m \u001b[0;32mif\u001b[0m \u001b[0m__package__\u001b[0m \u001b[0;32mis\u001b[0m \u001b[0;32mNone\u001b[0m\u001b[0;34m:\u001b[0m\u001b[0;34m\u001b[0m\u001b[0m\n",
      "\u001b[0;31mImportError\u001b[0m: cannot import name 'NoneType'"
     ]
    }
   ],
   "source": [
    "if __package__ is None:\n",
    "    sys.path.append(os.path.realpath(\"/data/shared/Software/CMS_Deep_Learning\"))\n",
    "    \n",
    "from CMS_Deep_Learning.io import gen_from_data, retrieve_data, simple_grab, nb_samples_from_h5\n",
    "from CMS_Deep_Learning.postprocessing.metrics import distribute_to_bins"
   ]
  },
  {
   "cell_type": "code",
   "execution_count": 6,
   "metadata": {},
   "outputs": [],
   "source": [
    "if __package__ is None:\n",
    "    sys.path.append(os.path.realpath(\"/home/vitoriabp/RegressionLCD/\"))\n",
    "    \n",
    "from model import *\n",
    "from preprocessing import *\n",
    "from plots import *"
   ]
  },
  {
   "cell_type": "code",
   "execution_count": 7,
   "metadata": {
    "collapsed": true
   },
   "outputs": [],
   "source": [
    "def loadModel(name, weights=False):\n",
    "    '''\n",
    "    Adapted from Kaustuv Datta and Jayesh Mahapatra's CaloImageMacros.\n",
    "    Loads models from json file.\n",
    "    :parameter name: name of the json file.\n",
    "    :type n\n",
    "    ame: str\n",
    "    :parameter weights: whether or not to load the weights.\n",
    "    :type weights: bool\n",
    "    :return: loaded model.\n",
    "    '''\n",
    "\n",
    "    json_file = open('%s.json' % name, 'r')\n",
    "    loaded = json_file.read()\n",
    "    json_file.close()\n",
    "\n",
    "    model = model_from_json(loaded)\n",
    "\n",
    "    # load weights into new model\n",
    "    if weights == True:\n",
    "        model.load_weights('%s.h5' % name)\n",
    "    # print(model.summary())\n",
    "\n",
    "    print(\"Loaded model from disk\")\n",
    "    return model"
   ]
  },
  {
   "cell_type": "code",
   "execution_count": 8,
   "metadata": {},
   "outputs": [
    {
     "name": "stderr",
     "output_type": "stream",
     "text": [
      "/usr/local/lib/python3.5/dist-packages/keras/engine/topology.py:1242: UserWarning: Update your `InputLayer` call to the Keras 2 API: `InputLayer(dtype=\"float32\", batch_input_shape=[None, 25,..., name=\"input_1\", sparse=False)`\n",
      "  return cls(**config)\n",
      "/usr/local/lib/python3.5/dist-packages/keras/engine/topology.py:1242: UserWarning: Update your `InputLayer` call to the Keras 2 API: `InputLayer(dtype=\"float32\", batch_input_shape=[None, 5, ..., name=\"input_2\", sparse=False)`\n",
      "  return cls(**config)\n",
      "/usr/local/lib/python3.5/dist-packages/keras/engine/topology.py:1242: UserWarning: Update your `Conv3D` call to the Keras 2 API: `Conv3D(bias_regularizer=None, name=\"convolution3d_1\", bias_constraint=None, activation=\"relu\", kernel_initializer=\"glorot_uniform\", kernel_constraint=None, data_format=\"channels_last\", kernel_size=(4, 4, 4), use_bias=True, strides=[1, 1, 1], trainable=True, padding=\"valid\", filters=3, activity_regularizer=None, kernel_regularizer=None)`\n",
      "  return cls(**config)\n",
      "/usr/local/lib/python3.5/dist-packages/keras/engine/topology.py:1242: UserWarning: Update your `Conv3D` call to the Keras 2 API: `Conv3D(bias_regularizer=None, name=\"convolution3d_2\", bias_constraint=None, activation=\"relu\", kernel_initializer=\"glorot_uniform\", kernel_constraint=None, data_format=\"channels_last\", kernel_size=(2, 2, 6), use_bias=True, strides=[1, 1, 1], trainable=True, padding=\"valid\", filters=10, activity_regularizer=None, kernel_regularizer=None)`\n",
      "  return cls(**config)\n",
      "/usr/local/lib/python3.5/dist-packages/keras/engine/topology.py:1242: UserWarning: Update your `MaxPooling3D` call to the Keras 2 API: `MaxPooling3D(pool_size=[2, 2, 2], name=\"maxpooling3d_1\", strides=[2, 2, 2], data_format=\"channels_last\", trainable=True, padding=\"valid\")`\n",
      "  return cls(**config)\n",
      "/usr/local/lib/python3.5/dist-packages/keras/engine/topology.py:1242: UserWarning: Update your `MaxPooling3D` call to the Keras 2 API: `MaxPooling3D(pool_size=[2, 2, 2], name=\"maxpooling3d_2\", strides=[2, 2, 2], data_format=\"channels_last\", trainable=True, padding=\"valid\")`\n",
      "  return cls(**config)\n",
      "/usr/local/lib/python3.5/dist-packages/keras/engine/topology.py:1242: UserWarning: The `Merge` layer is deprecated and will be removed after 08/2017. Use instead layers from `keras.layers.merge`, e.g. `add`, `concatenate`, etc.\n",
      "  return cls(**config)\n",
      "/usr/local/lib/python3.5/dist-packages/keras/engine/topology.py:1242: UserWarning: Update your `Dense` call to the Keras 2 API: `Dense(units=1000, bias_regularizer=None, activity_regularizer=None, input_dim=5073, bias_constraint=None, kernel_initializer=\"glorot_uniform\", activation=\"relu\", trainable=True, use_bias=True, name=\"dense_1\", kernel_constraint=None, kernel_regularizer=None)`\n",
      "  return cls(**config)\n",
      "/usr/local/lib/python3.5/dist-packages/keras/engine/topology.py:1242: UserWarning: Update your `Dropout` call to the Keras 2 API: `Dropout(rate=0.5, trainable=True, name=\"dropout_1\")`\n",
      "  return cls(**config)\n",
      "/usr/local/lib/python3.5/dist-packages/keras/engine/topology.py:1242: UserWarning: Update your `Dense` call to the Keras 2 API: `Dense(units=1, bias_regularizer=None, activity_regularizer=None, input_dim=1000, bias_constraint=None, kernel_initializer=\"glorot_uniform\", activation=\"linear\", trainable=True, use_bias=True, name=\"energy\", kernel_constraint=None, kernel_regularizer=None)`\n",
      "  return cls(**config)\n"
     ]
    },
    {
     "name": "stdout",
     "output_type": "stream",
     "text": [
      "Loaded model from disk\n"
     ]
    }
   ],
   "source": [
    "model = loadModel(name=\"pi0\", weights=True)"
   ]
  },
  {
   "cell_type": "code",
   "execution_count": 10,
   "metadata": {},
   "outputs": [],
   "source": [
    "from keras.utils import plot_model\n",
    "plot_model(model, to_file='pi0.png', show_shapes=True)"
   ]
  },
  {
   "cell_type": "code",
   "execution_count": 11,
   "metadata": {
    "collapsed": true
   },
   "outputs": [],
   "source": [
    "plot_model(model, to_file='pi0_.png')"
   ]
  },
  {
   "cell_type": "code",
   "execution_count": null,
   "metadata": {
    "collapsed": true
   },
   "outputs": [],
   "source": []
  }
 ],
 "metadata": {
  "kernelspec": {
   "display_name": "Python 3",
   "language": "python",
   "name": "python3"
  },
  "language_info": {
   "codemirror_mode": {
    "name": "ipython",
    "version": 3
   },
   "file_extension": ".py",
   "mimetype": "text/x-python",
   "name": "python",
   "nbconvert_exporter": "python",
   "pygments_lexer": "ipython3",
   "version": "3.5.2"
  }
 },
 "nbformat": 4,
 "nbformat_minor": 2
}
